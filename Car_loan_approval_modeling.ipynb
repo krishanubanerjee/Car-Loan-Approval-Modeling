{
 "cells": [
  {
   "cell_type": "markdown",
   "metadata": {},
   "source": [
    "#### Problem Statement - \n",
    "<br> This is an example of simplified classification model.\n",
    "<br> Objective of this exercise is to predict if we can approve car loans for some applicants.\n",
    "<br> Train data provided with TARGET variable 1 or 0. We have to run and check performance on TEST data\n",
    "                        \n",
    "### Contents -\n",
    "#### Exploratory Data Analysis<br> \n",
    "<br> -  Looking at Data<br> -  Plot and visualze Categorial Variables<br> -  \n",
    "Corelation and plot Neumerical variables<br> -  Missing Value Stats<br> \n",
    "####  Phase 1 Modeling\n",
    "<br> -  Simple way of missing value Imputation<br> -  Model preperation<br> -  Random Forest - grid search,\n",
    "hyperparameter tuning and evaluation of best model by cross validation<br> -  XGboost - \n",
    "hyperparameter tuning,random search and evaluation of best model by cross validation\n",
    "<br> -  Conclusion from Phase 1 <br> \n",
    "####  Phase 2 Modeling \n",
    "<br> -  Missing value imputation by KNN<br> -  Random Forest<br> -  XGboost<br> - Is there any improvement ?<br> \n",
    "#### Implementation on Test and Final Submission\n",
    "#### Conclusion and Future Work\n"
   ]
  },
  {
   "cell_type": "markdown",
   "metadata": {},
   "source": [
    "### Required Modules"
   ]
  },
  {
   "cell_type": "code",
   "execution_count": 144,
   "metadata": {},
   "outputs": [],
   "source": [
    "import numpy as np # linear algebra\n",
    "import pandas as pd # data processing, CSV file I/O (e.g. pd.read_csv)\n",
    "import matplotlib.pyplot as plt\n",
    "%matplotlib inline\n",
    "import seaborn as sns\n",
    "from sklearn.linear_model import LogisticRegression\n",
    "from sklearn.ensemble import RandomForestClassifier\n",
    "import sklearn.metrics as metrics\n",
    "from xgboost import XGBClassifier\n",
    "from xgboost import plot_importance\n",
    "from time import time\n",
    "import datetime\n",
    "from scipy import stats\n",
    "from sklearn.model_selection import KFold, StratifiedKFold,train_test_split\n",
    "import gc\n",
    "import json\n",
    "from lightgbm import LGBMClassifier\n",
    "import sklearn.metrics as metrics\n",
    "from sklearn.metrics import roc_curve\n",
    "from sklearn.metrics import roc_auc_score\n",
    "from sklearn.model_selection import GridSearchCV,RandomizedSearchCV\n",
    "from sklearn.impute import SimpleImputer\n",
    "from fancyimpute import IterativeImputer\n",
    "pd.set_option('display.max_columns', 1000)\n",
    "import warnings\n",
    "warnings.filterwarnings(\"ignore\")\n"
   ]
  },
  {
   "cell_type": "markdown",
   "metadata": {},
   "source": [
    "#### Loading Data"
   ]
  },
  {
   "cell_type": "code",
   "execution_count": 125,
   "metadata": {},
   "outputs": [],
   "source": [
    "file_path=\"/Users/krishanubanerjee/Downloads/prestige_finance/Use\"\n",
    "    \n",
    "train=pd.read_csv(file_path+\"/application_train.csv\")\n",
    "test=pd.read_csv(file_path+\"/application_test.csv\")"
   ]
  },
  {
   "cell_type": "markdown",
   "metadata": {},
   "source": [
    "### 1. Exploratory Data Analysis (EDA)"
   ]
  },
  {
   "cell_type": "markdown",
   "metadata": {},
   "source": [
    "####   Looking at data"
   ]
  },
  {
   "cell_type": "code",
   "execution_count": 4,
   "metadata": {},
   "outputs": [
    {
     "data": {
      "text/plain": [
       "(125000, 122)"
      ]
     },
     "execution_count": 4,
     "metadata": {},
     "output_type": "execute_result"
    }
   ],
   "source": [
    "train.shape"
   ]
  },
  {
   "cell_type": "code",
   "execution_count": 5,
   "metadata": {},
   "outputs": [
    {
     "data": {
      "text/plain": [
       "(48744, 121)"
      ]
     },
     "execution_count": 5,
     "metadata": {},
     "output_type": "execute_result"
    }
   ],
   "source": [
    "test.shape"
   ]
  },
  {
   "cell_type": "code",
   "execution_count": 6,
   "metadata": {},
   "outputs": [
    {
     "data": {
      "text/html": [
       "<div>\n",
       "<style scoped>\n",
       "    .dataframe tbody tr th:only-of-type {\n",
       "        vertical-align: middle;\n",
       "    }\n",
       "\n",
       "    .dataframe tbody tr th {\n",
       "        vertical-align: top;\n",
       "    }\n",
       "\n",
       "    .dataframe thead th {\n",
       "        text-align: right;\n",
       "    }\n",
       "</style>\n",
       "<table border=\"1\" class=\"dataframe\">\n",
       "  <thead>\n",
       "    <tr style=\"text-align: right;\">\n",
       "      <th></th>\n",
       "      <th>SK_ID_CURR</th>\n",
       "      <th>TARGET</th>\n",
       "      <th>NAME_CONTRACT_TYPE</th>\n",
       "      <th>CODE_GENDER</th>\n",
       "      <th>FLAG_OWN_CAR</th>\n",
       "      <th>FLAG_OWN_REALTY</th>\n",
       "      <th>CNT_CHILDREN</th>\n",
       "      <th>AMT_INCOME_TOTAL</th>\n",
       "      <th>AMT_CREDIT</th>\n",
       "      <th>AMT_ANNUITY</th>\n",
       "      <th>AMT_GOODS_PRICE</th>\n",
       "      <th>NAME_TYPE_SUITE</th>\n",
       "      <th>NAME_INCOME_TYPE</th>\n",
       "      <th>NAME_EDUCATION_TYPE</th>\n",
       "      <th>NAME_FAMILY_STATUS</th>\n",
       "      <th>NAME_HOUSING_TYPE</th>\n",
       "      <th>REGION_POPULATION_RELATIVE</th>\n",
       "      <th>DAYS_BIRTH</th>\n",
       "      <th>DAYS_EMPLOYED</th>\n",
       "      <th>DAYS_REGISTRATION</th>\n",
       "      <th>DAYS_ID_PUBLISH</th>\n",
       "      <th>OWN_CAR_AGE</th>\n",
       "      <th>FLAG_MOBIL</th>\n",
       "      <th>FLAG_EMP_PHONE</th>\n",
       "      <th>FLAG_WORK_PHONE</th>\n",
       "      <th>FLAG_CONT_MOBILE</th>\n",
       "      <th>FLAG_PHONE</th>\n",
       "      <th>FLAG_EMAIL</th>\n",
       "      <th>OCCUPATION_TYPE</th>\n",
       "      <th>CNT_FAM_MEMBERS</th>\n",
       "      <th>REGION_RATING_CLIENT</th>\n",
       "      <th>REGION_RATING_CLIENT_W_CITY</th>\n",
       "      <th>WEEKDAY_APPR_PROCESS_START</th>\n",
       "      <th>HOUR_APPR_PROCESS_START</th>\n",
       "      <th>REG_REGION_NOT_LIVE_REGION</th>\n",
       "      <th>REG_REGION_NOT_WORK_REGION</th>\n",
       "      <th>LIVE_REGION_NOT_WORK_REGION</th>\n",
       "      <th>REG_CITY_NOT_LIVE_CITY</th>\n",
       "      <th>REG_CITY_NOT_WORK_CITY</th>\n",
       "      <th>LIVE_CITY_NOT_WORK_CITY</th>\n",
       "      <th>ORGANIZATION_TYPE</th>\n",
       "      <th>EXT_SOURCE_1</th>\n",
       "      <th>EXT_SOURCE_2</th>\n",
       "      <th>EXT_SOURCE_3</th>\n",
       "      <th>APARTMENTS_AVG</th>\n",
       "      <th>BASEMENTAREA_AVG</th>\n",
       "      <th>YEARS_BEGINEXPLUATATION_AVG</th>\n",
       "      <th>YEARS_BUILD_AVG</th>\n",
       "      <th>COMMONAREA_AVG</th>\n",
       "      <th>ELEVATORS_AVG</th>\n",
       "      <th>ENTRANCES_AVG</th>\n",
       "      <th>FLOORSMAX_AVG</th>\n",
       "      <th>FLOORSMIN_AVG</th>\n",
       "      <th>LANDAREA_AVG</th>\n",
       "      <th>LIVINGAPARTMENTS_AVG</th>\n",
       "      <th>LIVINGAREA_AVG</th>\n",
       "      <th>NONLIVINGAPARTMENTS_AVG</th>\n",
       "      <th>NONLIVINGAREA_AVG</th>\n",
       "      <th>APARTMENTS_MODE</th>\n",
       "      <th>BASEMENTAREA_MODE</th>\n",
       "      <th>YEARS_BEGINEXPLUATATION_MODE</th>\n",
       "      <th>YEARS_BUILD_MODE</th>\n",
       "      <th>COMMONAREA_MODE</th>\n",
       "      <th>ELEVATORS_MODE</th>\n",
       "      <th>ENTRANCES_MODE</th>\n",
       "      <th>FLOORSMAX_MODE</th>\n",
       "      <th>FLOORSMIN_MODE</th>\n",
       "      <th>LANDAREA_MODE</th>\n",
       "      <th>LIVINGAPARTMENTS_MODE</th>\n",
       "      <th>LIVINGAREA_MODE</th>\n",
       "      <th>NONLIVINGAPARTMENTS_MODE</th>\n",
       "      <th>NONLIVINGAREA_MODE</th>\n",
       "      <th>APARTMENTS_MEDI</th>\n",
       "      <th>BASEMENTAREA_MEDI</th>\n",
       "      <th>YEARS_BEGINEXPLUATATION_MEDI</th>\n",
       "      <th>YEARS_BUILD_MEDI</th>\n",
       "      <th>COMMONAREA_MEDI</th>\n",
       "      <th>ELEVATORS_MEDI</th>\n",
       "      <th>ENTRANCES_MEDI</th>\n",
       "      <th>FLOORSMAX_MEDI</th>\n",
       "      <th>FLOORSMIN_MEDI</th>\n",
       "      <th>LANDAREA_MEDI</th>\n",
       "      <th>LIVINGAPARTMENTS_MEDI</th>\n",
       "      <th>LIVINGAREA_MEDI</th>\n",
       "      <th>NONLIVINGAPARTMENTS_MEDI</th>\n",
       "      <th>NONLIVINGAREA_MEDI</th>\n",
       "      <th>FONDKAPREMONT_MODE</th>\n",
       "      <th>HOUSETYPE_MODE</th>\n",
       "      <th>TOTALAREA_MODE</th>\n",
       "      <th>WALLSMATERIAL_MODE</th>\n",
       "      <th>EMERGENCYSTATE_MODE</th>\n",
       "      <th>OBS_30_CNT_SOCIAL_CIRCLE</th>\n",
       "      <th>DEF_30_CNT_SOCIAL_CIRCLE</th>\n",
       "      <th>OBS_60_CNT_SOCIAL_CIRCLE</th>\n",
       "      <th>DEF_60_CNT_SOCIAL_CIRCLE</th>\n",
       "      <th>DAYS_LAST_PHONE_CHANGE</th>\n",
       "      <th>FLAG_DOCUMENT_2</th>\n",
       "      <th>FLAG_DOCUMENT_3</th>\n",
       "      <th>FLAG_DOCUMENT_4</th>\n",
       "      <th>FLAG_DOCUMENT_5</th>\n",
       "      <th>FLAG_DOCUMENT_6</th>\n",
       "      <th>FLAG_DOCUMENT_7</th>\n",
       "      <th>FLAG_DOCUMENT_8</th>\n",
       "      <th>FLAG_DOCUMENT_9</th>\n",
       "      <th>FLAG_DOCUMENT_10</th>\n",
       "      <th>FLAG_DOCUMENT_11</th>\n",
       "      <th>FLAG_DOCUMENT_12</th>\n",
       "      <th>FLAG_DOCUMENT_13</th>\n",
       "      <th>FLAG_DOCUMENT_14</th>\n",
       "      <th>FLAG_DOCUMENT_15</th>\n",
       "      <th>FLAG_DOCUMENT_16</th>\n",
       "      <th>FLAG_DOCUMENT_17</th>\n",
       "      <th>FLAG_DOCUMENT_18</th>\n",
       "      <th>FLAG_DOCUMENT_19</th>\n",
       "      <th>FLAG_DOCUMENT_20</th>\n",
       "      <th>FLAG_DOCUMENT_21</th>\n",
       "      <th>AMT_REQ_CREDIT_BUREAU_HOUR</th>\n",
       "      <th>AMT_REQ_CREDIT_BUREAU_DAY</th>\n",
       "      <th>AMT_REQ_CREDIT_BUREAU_WEEK</th>\n",
       "      <th>AMT_REQ_CREDIT_BUREAU_MON</th>\n",
       "      <th>AMT_REQ_CREDIT_BUREAU_QRT</th>\n",
       "      <th>AMT_REQ_CREDIT_BUREAU_YEAR</th>\n",
       "    </tr>\n",
       "  </thead>\n",
       "  <tbody>\n",
       "    <tr>\n",
       "      <th>0</th>\n",
       "      <td>396902</td>\n",
       "      <td>0</td>\n",
       "      <td>Cash loans</td>\n",
       "      <td>F</td>\n",
       "      <td>Y</td>\n",
       "      <td>Y</td>\n",
       "      <td>0</td>\n",
       "      <td>121500.0</td>\n",
       "      <td>835380.0</td>\n",
       "      <td>40320.0</td>\n",
       "      <td>675000.0</td>\n",
       "      <td>Unaccompanied</td>\n",
       "      <td>Working</td>\n",
       "      <td>Higher education</td>\n",
       "      <td>Separated</td>\n",
       "      <td>House / apartment</td>\n",
       "      <td>0.035792</td>\n",
       "      <td>-16647</td>\n",
       "      <td>-283</td>\n",
       "      <td>-611.0</td>\n",
       "      <td>-184</td>\n",
       "      <td>10.0</td>\n",
       "      <td>1</td>\n",
       "      <td>1</td>\n",
       "      <td>1</td>\n",
       "      <td>1</td>\n",
       "      <td>0</td>\n",
       "      <td>0</td>\n",
       "      <td>Core staff</td>\n",
       "      <td>1.0</td>\n",
       "      <td>2</td>\n",
       "      <td>2</td>\n",
       "      <td>SUNDAY</td>\n",
       "      <td>11</td>\n",
       "      <td>0</td>\n",
       "      <td>0</td>\n",
       "      <td>0</td>\n",
       "      <td>0</td>\n",
       "      <td>0</td>\n",
       "      <td>0</td>\n",
       "      <td>Restaurant</td>\n",
       "      <td>0.642816</td>\n",
       "      <td>0.606592</td>\n",
       "      <td>0.646330</td>\n",
       "      <td>NaN</td>\n",
       "      <td>NaN</td>\n",
       "      <td>NaN</td>\n",
       "      <td>NaN</td>\n",
       "      <td>NaN</td>\n",
       "      <td>NaN</td>\n",
       "      <td>NaN</td>\n",
       "      <td>NaN</td>\n",
       "      <td>NaN</td>\n",
       "      <td>NaN</td>\n",
       "      <td>NaN</td>\n",
       "      <td>NaN</td>\n",
       "      <td>NaN</td>\n",
       "      <td>NaN</td>\n",
       "      <td>NaN</td>\n",
       "      <td>NaN</td>\n",
       "      <td>NaN</td>\n",
       "      <td>NaN</td>\n",
       "      <td>NaN</td>\n",
       "      <td>NaN</td>\n",
       "      <td>NaN</td>\n",
       "      <td>NaN</td>\n",
       "      <td>NaN</td>\n",
       "      <td>NaN</td>\n",
       "      <td>NaN</td>\n",
       "      <td>NaN</td>\n",
       "      <td>NaN</td>\n",
       "      <td>NaN</td>\n",
       "      <td>NaN</td>\n",
       "      <td>NaN</td>\n",
       "      <td>NaN</td>\n",
       "      <td>NaN</td>\n",
       "      <td>NaN</td>\n",
       "      <td>NaN</td>\n",
       "      <td>NaN</td>\n",
       "      <td>NaN</td>\n",
       "      <td>NaN</td>\n",
       "      <td>NaN</td>\n",
       "      <td>NaN</td>\n",
       "      <td>NaN</td>\n",
       "      <td>NaN</td>\n",
       "      <td>NaN</td>\n",
       "      <td>NaN</td>\n",
       "      <td>NaN</td>\n",
       "      <td>NaN</td>\n",
       "      <td>NaN</td>\n",
       "      <td>NaN</td>\n",
       "      <td>0.0</td>\n",
       "      <td>0.0</td>\n",
       "      <td>0.0</td>\n",
       "      <td>0.0</td>\n",
       "      <td>-770.0</td>\n",
       "      <td>0</td>\n",
       "      <td>1</td>\n",
       "      <td>0</td>\n",
       "      <td>0</td>\n",
       "      <td>0</td>\n",
       "      <td>0</td>\n",
       "      <td>0</td>\n",
       "      <td>0</td>\n",
       "      <td>0</td>\n",
       "      <td>0</td>\n",
       "      <td>0</td>\n",
       "      <td>0</td>\n",
       "      <td>0</td>\n",
       "      <td>0</td>\n",
       "      <td>0</td>\n",
       "      <td>0</td>\n",
       "      <td>0</td>\n",
       "      <td>0</td>\n",
       "      <td>0</td>\n",
       "      <td>0</td>\n",
       "      <td>0.0</td>\n",
       "      <td>0.0</td>\n",
       "      <td>0.0</td>\n",
       "      <td>0.0</td>\n",
       "      <td>0.0</td>\n",
       "      <td>4.0</td>\n",
       "    </tr>\n",
       "    <tr>\n",
       "      <th>1</th>\n",
       "      <td>112096</td>\n",
       "      <td>0</td>\n",
       "      <td>Cash loans</td>\n",
       "      <td>F</td>\n",
       "      <td>N</td>\n",
       "      <td>Y</td>\n",
       "      <td>0</td>\n",
       "      <td>202500.0</td>\n",
       "      <td>516069.0</td>\n",
       "      <td>26478.0</td>\n",
       "      <td>445500.0</td>\n",
       "      <td>Unaccompanied</td>\n",
       "      <td>Pensioner</td>\n",
       "      <td>Secondary / secondary special</td>\n",
       "      <td>Widow</td>\n",
       "      <td>House / apartment</td>\n",
       "      <td>0.011657</td>\n",
       "      <td>-22237</td>\n",
       "      <td>365243</td>\n",
       "      <td>-34.0</td>\n",
       "      <td>-4878</td>\n",
       "      <td>NaN</td>\n",
       "      <td>1</td>\n",
       "      <td>0</td>\n",
       "      <td>0</td>\n",
       "      <td>1</td>\n",
       "      <td>0</td>\n",
       "      <td>0</td>\n",
       "      <td>NaN</td>\n",
       "      <td>1.0</td>\n",
       "      <td>1</td>\n",
       "      <td>1</td>\n",
       "      <td>WEDNESDAY</td>\n",
       "      <td>10</td>\n",
       "      <td>0</td>\n",
       "      <td>0</td>\n",
       "      <td>0</td>\n",
       "      <td>0</td>\n",
       "      <td>0</td>\n",
       "      <td>0</td>\n",
       "      <td>XNA</td>\n",
       "      <td>NaN</td>\n",
       "      <td>0.172095</td>\n",
       "      <td>0.360613</td>\n",
       "      <td>0.1227</td>\n",
       "      <td>0.1213</td>\n",
       "      <td>0.9762</td>\n",
       "      <td>0.6736</td>\n",
       "      <td>0.1901</td>\n",
       "      <td>0.00</td>\n",
       "      <td>0.2069</td>\n",
       "      <td>0.1667</td>\n",
       "      <td>0.0417</td>\n",
       "      <td>0.0476</td>\n",
       "      <td>0.1000</td>\n",
       "      <td>0.0941</td>\n",
       "      <td>0.0000</td>\n",
       "      <td>0.1375</td>\n",
       "      <td>0.1250</td>\n",
       "      <td>0.1259</td>\n",
       "      <td>0.9762</td>\n",
       "      <td>0.6864</td>\n",
       "      <td>0.1918</td>\n",
       "      <td>0.0000</td>\n",
       "      <td>0.2069</td>\n",
       "      <td>0.1667</td>\n",
       "      <td>0.0417</td>\n",
       "      <td>0.0487</td>\n",
       "      <td>0.1093</td>\n",
       "      <td>0.0981</td>\n",
       "      <td>0.0000</td>\n",
       "      <td>0.1456</td>\n",
       "      <td>0.1239</td>\n",
       "      <td>0.1213</td>\n",
       "      <td>0.9762</td>\n",
       "      <td>0.6780</td>\n",
       "      <td>0.1913</td>\n",
       "      <td>0.00</td>\n",
       "      <td>0.2069</td>\n",
       "      <td>0.1667</td>\n",
       "      <td>0.0417</td>\n",
       "      <td>0.0485</td>\n",
       "      <td>0.1018</td>\n",
       "      <td>0.0958</td>\n",
       "      <td>0.0000</td>\n",
       "      <td>0.1404</td>\n",
       "      <td>reg oper spec account</td>\n",
       "      <td>block of flats</td>\n",
       "      <td>0.1039</td>\n",
       "      <td>Stone, brick</td>\n",
       "      <td>No</td>\n",
       "      <td>1.0</td>\n",
       "      <td>1.0</td>\n",
       "      <td>1.0</td>\n",
       "      <td>1.0</td>\n",
       "      <td>-1069.0</td>\n",
       "      <td>0</td>\n",
       "      <td>1</td>\n",
       "      <td>0</td>\n",
       "      <td>0</td>\n",
       "      <td>0</td>\n",
       "      <td>0</td>\n",
       "      <td>0</td>\n",
       "      <td>0</td>\n",
       "      <td>0</td>\n",
       "      <td>0</td>\n",
       "      <td>0</td>\n",
       "      <td>0</td>\n",
       "      <td>0</td>\n",
       "      <td>0</td>\n",
       "      <td>0</td>\n",
       "      <td>0</td>\n",
       "      <td>0</td>\n",
       "      <td>0</td>\n",
       "      <td>0</td>\n",
       "      <td>0</td>\n",
       "      <td>0.0</td>\n",
       "      <td>0.0</td>\n",
       "      <td>0.0</td>\n",
       "      <td>0.0</td>\n",
       "      <td>0.0</td>\n",
       "      <td>6.0</td>\n",
       "    </tr>\n",
       "    <tr>\n",
       "      <th>2</th>\n",
       "      <td>285821</td>\n",
       "      <td>1</td>\n",
       "      <td>Cash loans</td>\n",
       "      <td>M</td>\n",
       "      <td>Y</td>\n",
       "      <td>Y</td>\n",
       "      <td>1</td>\n",
       "      <td>180000.0</td>\n",
       "      <td>284400.0</td>\n",
       "      <td>22468.5</td>\n",
       "      <td>225000.0</td>\n",
       "      <td>Spouse, partner</td>\n",
       "      <td>Working</td>\n",
       "      <td>Secondary / secondary special</td>\n",
       "      <td>Married</td>\n",
       "      <td>House / apartment</td>\n",
       "      <td>0.028663</td>\n",
       "      <td>-11399</td>\n",
       "      <td>-508</td>\n",
       "      <td>-1500.0</td>\n",
       "      <td>-920</td>\n",
       "      <td>16.0</td>\n",
       "      <td>1</td>\n",
       "      <td>1</td>\n",
       "      <td>0</td>\n",
       "      <td>1</td>\n",
       "      <td>0</td>\n",
       "      <td>0</td>\n",
       "      <td>Laborers</td>\n",
       "      <td>3.0</td>\n",
       "      <td>2</td>\n",
       "      <td>2</td>\n",
       "      <td>SUNDAY</td>\n",
       "      <td>11</td>\n",
       "      <td>0</td>\n",
       "      <td>1</td>\n",
       "      <td>1</td>\n",
       "      <td>0</td>\n",
       "      <td>1</td>\n",
       "      <td>1</td>\n",
       "      <td>Construction</td>\n",
       "      <td>0.446722</td>\n",
       "      <td>0.465626</td>\n",
       "      <td>0.106156</td>\n",
       "      <td>NaN</td>\n",
       "      <td>NaN</td>\n",
       "      <td>NaN</td>\n",
       "      <td>NaN</td>\n",
       "      <td>NaN</td>\n",
       "      <td>NaN</td>\n",
       "      <td>NaN</td>\n",
       "      <td>NaN</td>\n",
       "      <td>NaN</td>\n",
       "      <td>NaN</td>\n",
       "      <td>NaN</td>\n",
       "      <td>NaN</td>\n",
       "      <td>NaN</td>\n",
       "      <td>NaN</td>\n",
       "      <td>NaN</td>\n",
       "      <td>NaN</td>\n",
       "      <td>NaN</td>\n",
       "      <td>NaN</td>\n",
       "      <td>NaN</td>\n",
       "      <td>NaN</td>\n",
       "      <td>NaN</td>\n",
       "      <td>NaN</td>\n",
       "      <td>NaN</td>\n",
       "      <td>NaN</td>\n",
       "      <td>NaN</td>\n",
       "      <td>NaN</td>\n",
       "      <td>NaN</td>\n",
       "      <td>NaN</td>\n",
       "      <td>NaN</td>\n",
       "      <td>NaN</td>\n",
       "      <td>NaN</td>\n",
       "      <td>NaN</td>\n",
       "      <td>NaN</td>\n",
       "      <td>NaN</td>\n",
       "      <td>NaN</td>\n",
       "      <td>NaN</td>\n",
       "      <td>NaN</td>\n",
       "      <td>NaN</td>\n",
       "      <td>NaN</td>\n",
       "      <td>NaN</td>\n",
       "      <td>NaN</td>\n",
       "      <td>NaN</td>\n",
       "      <td>NaN</td>\n",
       "      <td>NaN</td>\n",
       "      <td>NaN</td>\n",
       "      <td>NaN</td>\n",
       "      <td>NaN</td>\n",
       "      <td>7.0</td>\n",
       "      <td>0.0</td>\n",
       "      <td>7.0</td>\n",
       "      <td>0.0</td>\n",
       "      <td>-933.0</td>\n",
       "      <td>0</td>\n",
       "      <td>1</td>\n",
       "      <td>0</td>\n",
       "      <td>0</td>\n",
       "      <td>0</td>\n",
       "      <td>0</td>\n",
       "      <td>0</td>\n",
       "      <td>0</td>\n",
       "      <td>0</td>\n",
       "      <td>0</td>\n",
       "      <td>0</td>\n",
       "      <td>0</td>\n",
       "      <td>0</td>\n",
       "      <td>0</td>\n",
       "      <td>0</td>\n",
       "      <td>0</td>\n",
       "      <td>0</td>\n",
       "      <td>0</td>\n",
       "      <td>0</td>\n",
       "      <td>0</td>\n",
       "      <td>0.0</td>\n",
       "      <td>0.0</td>\n",
       "      <td>0.0</td>\n",
       "      <td>0.0</td>\n",
       "      <td>0.0</td>\n",
       "      <td>3.0</td>\n",
       "    </tr>\n",
       "    <tr>\n",
       "      <th>3</th>\n",
       "      <td>376901</td>\n",
       "      <td>0</td>\n",
       "      <td>Cash loans</td>\n",
       "      <td>F</td>\n",
       "      <td>N</td>\n",
       "      <td>Y</td>\n",
       "      <td>0</td>\n",
       "      <td>90000.0</td>\n",
       "      <td>265536.0</td>\n",
       "      <td>13684.5</td>\n",
       "      <td>180000.0</td>\n",
       "      <td>Unaccompanied</td>\n",
       "      <td>Working</td>\n",
       "      <td>Secondary / secondary special</td>\n",
       "      <td>Married</td>\n",
       "      <td>House / apartment</td>\n",
       "      <td>0.031329</td>\n",
       "      <td>-20074</td>\n",
       "      <td>-221</td>\n",
       "      <td>-1264.0</td>\n",
       "      <td>-3559</td>\n",
       "      <td>NaN</td>\n",
       "      <td>1</td>\n",
       "      <td>1</td>\n",
       "      <td>0</td>\n",
       "      <td>1</td>\n",
       "      <td>0</td>\n",
       "      <td>0</td>\n",
       "      <td>Medicine staff</td>\n",
       "      <td>2.0</td>\n",
       "      <td>2</td>\n",
       "      <td>2</td>\n",
       "      <td>FRIDAY</td>\n",
       "      <td>10</td>\n",
       "      <td>0</td>\n",
       "      <td>0</td>\n",
       "      <td>0</td>\n",
       "      <td>0</td>\n",
       "      <td>0</td>\n",
       "      <td>0</td>\n",
       "      <td>Kindergarten</td>\n",
       "      <td>NaN</td>\n",
       "      <td>0.662464</td>\n",
       "      <td>0.266457</td>\n",
       "      <td>0.1320</td>\n",
       "      <td>0.0460</td>\n",
       "      <td>0.9856</td>\n",
       "      <td>0.8028</td>\n",
       "      <td>0.0375</td>\n",
       "      <td>0.08</td>\n",
       "      <td>0.0345</td>\n",
       "      <td>0.6250</td>\n",
       "      <td>0.6667</td>\n",
       "      <td>0.0116</td>\n",
       "      <td>0.1067</td>\n",
       "      <td>0.1327</td>\n",
       "      <td>0.0039</td>\n",
       "      <td>0.0011</td>\n",
       "      <td>0.1345</td>\n",
       "      <td>0.0478</td>\n",
       "      <td>0.9856</td>\n",
       "      <td>0.8105</td>\n",
       "      <td>0.0378</td>\n",
       "      <td>0.0806</td>\n",
       "      <td>0.0345</td>\n",
       "      <td>0.6250</td>\n",
       "      <td>0.6667</td>\n",
       "      <td>0.0119</td>\n",
       "      <td>0.1166</td>\n",
       "      <td>0.1382</td>\n",
       "      <td>0.0039</td>\n",
       "      <td>0.0011</td>\n",
       "      <td>0.1332</td>\n",
       "      <td>0.0460</td>\n",
       "      <td>0.9856</td>\n",
       "      <td>0.8054</td>\n",
       "      <td>0.0377</td>\n",
       "      <td>0.08</td>\n",
       "      <td>0.0345</td>\n",
       "      <td>0.6250</td>\n",
       "      <td>0.6667</td>\n",
       "      <td>0.0118</td>\n",
       "      <td>0.1086</td>\n",
       "      <td>0.1351</td>\n",
       "      <td>0.0039</td>\n",
       "      <td>0.0011</td>\n",
       "      <td>reg oper account</td>\n",
       "      <td>block of flats</td>\n",
       "      <td>0.1251</td>\n",
       "      <td>Monolithic</td>\n",
       "      <td>No</td>\n",
       "      <td>0.0</td>\n",
       "      <td>0.0</td>\n",
       "      <td>0.0</td>\n",
       "      <td>0.0</td>\n",
       "      <td>-1428.0</td>\n",
       "      <td>0</td>\n",
       "      <td>1</td>\n",
       "      <td>0</td>\n",
       "      <td>0</td>\n",
       "      <td>0</td>\n",
       "      <td>0</td>\n",
       "      <td>0</td>\n",
       "      <td>0</td>\n",
       "      <td>0</td>\n",
       "      <td>0</td>\n",
       "      <td>0</td>\n",
       "      <td>0</td>\n",
       "      <td>0</td>\n",
       "      <td>0</td>\n",
       "      <td>0</td>\n",
       "      <td>0</td>\n",
       "      <td>0</td>\n",
       "      <td>0</td>\n",
       "      <td>0</td>\n",
       "      <td>0</td>\n",
       "      <td>0.0</td>\n",
       "      <td>0.0</td>\n",
       "      <td>0.0</td>\n",
       "      <td>0.0</td>\n",
       "      <td>1.0</td>\n",
       "      <td>1.0</td>\n",
       "    </tr>\n",
       "    <tr>\n",
       "      <th>4</th>\n",
       "      <td>325138</td>\n",
       "      <td>0</td>\n",
       "      <td>Cash loans</td>\n",
       "      <td>F</td>\n",
       "      <td>Y</td>\n",
       "      <td>Y</td>\n",
       "      <td>0</td>\n",
       "      <td>94500.0</td>\n",
       "      <td>755190.0</td>\n",
       "      <td>30078.0</td>\n",
       "      <td>675000.0</td>\n",
       "      <td>Unaccompanied</td>\n",
       "      <td>Pensioner</td>\n",
       "      <td>Secondary / secondary special</td>\n",
       "      <td>Single / not married</td>\n",
       "      <td>House / apartment</td>\n",
       "      <td>0.019689</td>\n",
       "      <td>-20691</td>\n",
       "      <td>365243</td>\n",
       "      <td>-2277.0</td>\n",
       "      <td>-703</td>\n",
       "      <td>10.0</td>\n",
       "      <td>1</td>\n",
       "      <td>0</td>\n",
       "      <td>0</td>\n",
       "      <td>1</td>\n",
       "      <td>0</td>\n",
       "      <td>0</td>\n",
       "      <td>NaN</td>\n",
       "      <td>1.0</td>\n",
       "      <td>2</td>\n",
       "      <td>2</td>\n",
       "      <td>THURSDAY</td>\n",
       "      <td>12</td>\n",
       "      <td>0</td>\n",
       "      <td>0</td>\n",
       "      <td>0</td>\n",
       "      <td>0</td>\n",
       "      <td>0</td>\n",
       "      <td>0</td>\n",
       "      <td>XNA</td>\n",
       "      <td>NaN</td>\n",
       "      <td>0.054296</td>\n",
       "      <td>NaN</td>\n",
       "      <td>0.0082</td>\n",
       "      <td>0.0216</td>\n",
       "      <td>0.9722</td>\n",
       "      <td>NaN</td>\n",
       "      <td>NaN</td>\n",
       "      <td>0.00</td>\n",
       "      <td>0.0345</td>\n",
       "      <td>0.0417</td>\n",
       "      <td>NaN</td>\n",
       "      <td>0.0038</td>\n",
       "      <td>NaN</td>\n",
       "      <td>0.0095</td>\n",
       "      <td>NaN</td>\n",
       "      <td>0.0000</td>\n",
       "      <td>0.0084</td>\n",
       "      <td>0.0225</td>\n",
       "      <td>0.9722</td>\n",
       "      <td>NaN</td>\n",
       "      <td>NaN</td>\n",
       "      <td>0.0000</td>\n",
       "      <td>0.0345</td>\n",
       "      <td>0.0417</td>\n",
       "      <td>NaN</td>\n",
       "      <td>0.0039</td>\n",
       "      <td>NaN</td>\n",
       "      <td>0.0099</td>\n",
       "      <td>NaN</td>\n",
       "      <td>0.0000</td>\n",
       "      <td>0.0083</td>\n",
       "      <td>0.0216</td>\n",
       "      <td>0.9722</td>\n",
       "      <td>NaN</td>\n",
       "      <td>NaN</td>\n",
       "      <td>0.00</td>\n",
       "      <td>0.0345</td>\n",
       "      <td>0.0417</td>\n",
       "      <td>NaN</td>\n",
       "      <td>0.0039</td>\n",
       "      <td>NaN</td>\n",
       "      <td>0.0096</td>\n",
       "      <td>NaN</td>\n",
       "      <td>0.0000</td>\n",
       "      <td>NaN</td>\n",
       "      <td>block of flats</td>\n",
       "      <td>0.0074</td>\n",
       "      <td>Stone, brick</td>\n",
       "      <td>No</td>\n",
       "      <td>0.0</td>\n",
       "      <td>0.0</td>\n",
       "      <td>0.0</td>\n",
       "      <td>0.0</td>\n",
       "      <td>-695.0</td>\n",
       "      <td>0</td>\n",
       "      <td>1</td>\n",
       "      <td>0</td>\n",
       "      <td>0</td>\n",
       "      <td>0</td>\n",
       "      <td>0</td>\n",
       "      <td>0</td>\n",
       "      <td>0</td>\n",
       "      <td>0</td>\n",
       "      <td>0</td>\n",
       "      <td>0</td>\n",
       "      <td>0</td>\n",
       "      <td>0</td>\n",
       "      <td>0</td>\n",
       "      <td>0</td>\n",
       "      <td>0</td>\n",
       "      <td>0</td>\n",
       "      <td>0</td>\n",
       "      <td>0</td>\n",
       "      <td>0</td>\n",
       "      <td>NaN</td>\n",
       "      <td>NaN</td>\n",
       "      <td>NaN</td>\n",
       "      <td>NaN</td>\n",
       "      <td>NaN</td>\n",
       "      <td>NaN</td>\n",
       "    </tr>\n",
       "  </tbody>\n",
       "</table>\n",
       "</div>"
      ],
      "text/plain": [
       "   SK_ID_CURR  TARGET NAME_CONTRACT_TYPE CODE_GENDER FLAG_OWN_CAR  \\\n",
       "0      396902       0         Cash loans           F            Y   \n",
       "1      112096       0         Cash loans           F            N   \n",
       "2      285821       1         Cash loans           M            Y   \n",
       "3      376901       0         Cash loans           F            N   \n",
       "4      325138       0         Cash loans           F            Y   \n",
       "\n",
       "  FLAG_OWN_REALTY  CNT_CHILDREN  AMT_INCOME_TOTAL  AMT_CREDIT  AMT_ANNUITY  \\\n",
       "0               Y             0          121500.0    835380.0      40320.0   \n",
       "1               Y             0          202500.0    516069.0      26478.0   \n",
       "2               Y             1          180000.0    284400.0      22468.5   \n",
       "3               Y             0           90000.0    265536.0      13684.5   \n",
       "4               Y             0           94500.0    755190.0      30078.0   \n",
       "\n",
       "   AMT_GOODS_PRICE  NAME_TYPE_SUITE NAME_INCOME_TYPE  \\\n",
       "0         675000.0    Unaccompanied          Working   \n",
       "1         445500.0    Unaccompanied        Pensioner   \n",
       "2         225000.0  Spouse, partner          Working   \n",
       "3         180000.0    Unaccompanied          Working   \n",
       "4         675000.0    Unaccompanied        Pensioner   \n",
       "\n",
       "             NAME_EDUCATION_TYPE    NAME_FAMILY_STATUS  NAME_HOUSING_TYPE  \\\n",
       "0               Higher education             Separated  House / apartment   \n",
       "1  Secondary / secondary special                 Widow  House / apartment   \n",
       "2  Secondary / secondary special               Married  House / apartment   \n",
       "3  Secondary / secondary special               Married  House / apartment   \n",
       "4  Secondary / secondary special  Single / not married  House / apartment   \n",
       "\n",
       "   REGION_POPULATION_RELATIVE  DAYS_BIRTH  DAYS_EMPLOYED  DAYS_REGISTRATION  \\\n",
       "0                    0.035792      -16647           -283             -611.0   \n",
       "1                    0.011657      -22237         365243              -34.0   \n",
       "2                    0.028663      -11399           -508            -1500.0   \n",
       "3                    0.031329      -20074           -221            -1264.0   \n",
       "4                    0.019689      -20691         365243            -2277.0   \n",
       "\n",
       "   DAYS_ID_PUBLISH  OWN_CAR_AGE  FLAG_MOBIL  FLAG_EMP_PHONE  FLAG_WORK_PHONE  \\\n",
       "0             -184         10.0           1               1                1   \n",
       "1            -4878          NaN           1               0                0   \n",
       "2             -920         16.0           1               1                0   \n",
       "3            -3559          NaN           1               1                0   \n",
       "4             -703         10.0           1               0                0   \n",
       "\n",
       "   FLAG_CONT_MOBILE  FLAG_PHONE  FLAG_EMAIL OCCUPATION_TYPE  CNT_FAM_MEMBERS  \\\n",
       "0                 1           0           0      Core staff              1.0   \n",
       "1                 1           0           0             NaN              1.0   \n",
       "2                 1           0           0        Laborers              3.0   \n",
       "3                 1           0           0  Medicine staff              2.0   \n",
       "4                 1           0           0             NaN              1.0   \n",
       "\n",
       "   REGION_RATING_CLIENT  REGION_RATING_CLIENT_W_CITY  \\\n",
       "0                     2                            2   \n",
       "1                     1                            1   \n",
       "2                     2                            2   \n",
       "3                     2                            2   \n",
       "4                     2                            2   \n",
       "\n",
       "  WEEKDAY_APPR_PROCESS_START  HOUR_APPR_PROCESS_START  \\\n",
       "0                     SUNDAY                       11   \n",
       "1                  WEDNESDAY                       10   \n",
       "2                     SUNDAY                       11   \n",
       "3                     FRIDAY                       10   \n",
       "4                   THURSDAY                       12   \n",
       "\n",
       "   REG_REGION_NOT_LIVE_REGION  REG_REGION_NOT_WORK_REGION  \\\n",
       "0                           0                           0   \n",
       "1                           0                           0   \n",
       "2                           0                           1   \n",
       "3                           0                           0   \n",
       "4                           0                           0   \n",
       "\n",
       "   LIVE_REGION_NOT_WORK_REGION  REG_CITY_NOT_LIVE_CITY  \\\n",
       "0                            0                       0   \n",
       "1                            0                       0   \n",
       "2                            1                       0   \n",
       "3                            0                       0   \n",
       "4                            0                       0   \n",
       "\n",
       "   REG_CITY_NOT_WORK_CITY  LIVE_CITY_NOT_WORK_CITY ORGANIZATION_TYPE  \\\n",
       "0                       0                        0        Restaurant   \n",
       "1                       0                        0               XNA   \n",
       "2                       1                        1      Construction   \n",
       "3                       0                        0      Kindergarten   \n",
       "4                       0                        0               XNA   \n",
       "\n",
       "   EXT_SOURCE_1  EXT_SOURCE_2  EXT_SOURCE_3  APARTMENTS_AVG  BASEMENTAREA_AVG  \\\n",
       "0      0.642816      0.606592      0.646330             NaN               NaN   \n",
       "1           NaN      0.172095      0.360613          0.1227            0.1213   \n",
       "2      0.446722      0.465626      0.106156             NaN               NaN   \n",
       "3           NaN      0.662464      0.266457          0.1320            0.0460   \n",
       "4           NaN      0.054296           NaN          0.0082            0.0216   \n",
       "\n",
       "   YEARS_BEGINEXPLUATATION_AVG  YEARS_BUILD_AVG  COMMONAREA_AVG  \\\n",
       "0                          NaN              NaN             NaN   \n",
       "1                       0.9762           0.6736          0.1901   \n",
       "2                          NaN              NaN             NaN   \n",
       "3                       0.9856           0.8028          0.0375   \n",
       "4                       0.9722              NaN             NaN   \n",
       "\n",
       "   ELEVATORS_AVG  ENTRANCES_AVG  FLOORSMAX_AVG  FLOORSMIN_AVG  LANDAREA_AVG  \\\n",
       "0            NaN            NaN            NaN            NaN           NaN   \n",
       "1           0.00         0.2069         0.1667         0.0417        0.0476   \n",
       "2            NaN            NaN            NaN            NaN           NaN   \n",
       "3           0.08         0.0345         0.6250         0.6667        0.0116   \n",
       "4           0.00         0.0345         0.0417            NaN        0.0038   \n",
       "\n",
       "   LIVINGAPARTMENTS_AVG  LIVINGAREA_AVG  NONLIVINGAPARTMENTS_AVG  \\\n",
       "0                   NaN             NaN                      NaN   \n",
       "1                0.1000          0.0941                   0.0000   \n",
       "2                   NaN             NaN                      NaN   \n",
       "3                0.1067          0.1327                   0.0039   \n",
       "4                   NaN          0.0095                      NaN   \n",
       "\n",
       "   NONLIVINGAREA_AVG  APARTMENTS_MODE  BASEMENTAREA_MODE  \\\n",
       "0                NaN              NaN                NaN   \n",
       "1             0.1375           0.1250             0.1259   \n",
       "2                NaN              NaN                NaN   \n",
       "3             0.0011           0.1345             0.0478   \n",
       "4             0.0000           0.0084             0.0225   \n",
       "\n",
       "   YEARS_BEGINEXPLUATATION_MODE  YEARS_BUILD_MODE  COMMONAREA_MODE  \\\n",
       "0                           NaN               NaN              NaN   \n",
       "1                        0.9762            0.6864           0.1918   \n",
       "2                           NaN               NaN              NaN   \n",
       "3                        0.9856            0.8105           0.0378   \n",
       "4                        0.9722               NaN              NaN   \n",
       "\n",
       "   ELEVATORS_MODE  ENTRANCES_MODE  FLOORSMAX_MODE  FLOORSMIN_MODE  \\\n",
       "0             NaN             NaN             NaN             NaN   \n",
       "1          0.0000          0.2069          0.1667          0.0417   \n",
       "2             NaN             NaN             NaN             NaN   \n",
       "3          0.0806          0.0345          0.6250          0.6667   \n",
       "4          0.0000          0.0345          0.0417             NaN   \n",
       "\n",
       "   LANDAREA_MODE  LIVINGAPARTMENTS_MODE  LIVINGAREA_MODE  \\\n",
       "0            NaN                    NaN              NaN   \n",
       "1         0.0487                 0.1093           0.0981   \n",
       "2            NaN                    NaN              NaN   \n",
       "3         0.0119                 0.1166           0.1382   \n",
       "4         0.0039                    NaN           0.0099   \n",
       "\n",
       "   NONLIVINGAPARTMENTS_MODE  NONLIVINGAREA_MODE  APARTMENTS_MEDI  \\\n",
       "0                       NaN                 NaN              NaN   \n",
       "1                    0.0000              0.1456           0.1239   \n",
       "2                       NaN                 NaN              NaN   \n",
       "3                    0.0039              0.0011           0.1332   \n",
       "4                       NaN              0.0000           0.0083   \n",
       "\n",
       "   BASEMENTAREA_MEDI  YEARS_BEGINEXPLUATATION_MEDI  YEARS_BUILD_MEDI  \\\n",
       "0                NaN                           NaN               NaN   \n",
       "1             0.1213                        0.9762            0.6780   \n",
       "2                NaN                           NaN               NaN   \n",
       "3             0.0460                        0.9856            0.8054   \n",
       "4             0.0216                        0.9722               NaN   \n",
       "\n",
       "   COMMONAREA_MEDI  ELEVATORS_MEDI  ENTRANCES_MEDI  FLOORSMAX_MEDI  \\\n",
       "0              NaN             NaN             NaN             NaN   \n",
       "1           0.1913            0.00          0.2069          0.1667   \n",
       "2              NaN             NaN             NaN             NaN   \n",
       "3           0.0377            0.08          0.0345          0.6250   \n",
       "4              NaN            0.00          0.0345          0.0417   \n",
       "\n",
       "   FLOORSMIN_MEDI  LANDAREA_MEDI  LIVINGAPARTMENTS_MEDI  LIVINGAREA_MEDI  \\\n",
       "0             NaN            NaN                    NaN              NaN   \n",
       "1          0.0417         0.0485                 0.1018           0.0958   \n",
       "2             NaN            NaN                    NaN              NaN   \n",
       "3          0.6667         0.0118                 0.1086           0.1351   \n",
       "4             NaN         0.0039                    NaN           0.0096   \n",
       "\n",
       "   NONLIVINGAPARTMENTS_MEDI  NONLIVINGAREA_MEDI     FONDKAPREMONT_MODE  \\\n",
       "0                       NaN                 NaN                    NaN   \n",
       "1                    0.0000              0.1404  reg oper spec account   \n",
       "2                       NaN                 NaN                    NaN   \n",
       "3                    0.0039              0.0011       reg oper account   \n",
       "4                       NaN              0.0000                    NaN   \n",
       "\n",
       "   HOUSETYPE_MODE  TOTALAREA_MODE WALLSMATERIAL_MODE EMERGENCYSTATE_MODE  \\\n",
       "0             NaN             NaN                NaN                 NaN   \n",
       "1  block of flats          0.1039       Stone, brick                  No   \n",
       "2             NaN             NaN                NaN                 NaN   \n",
       "3  block of flats          0.1251         Monolithic                  No   \n",
       "4  block of flats          0.0074       Stone, brick                  No   \n",
       "\n",
       "   OBS_30_CNT_SOCIAL_CIRCLE  DEF_30_CNT_SOCIAL_CIRCLE  \\\n",
       "0                       0.0                       0.0   \n",
       "1                       1.0                       1.0   \n",
       "2                       7.0                       0.0   \n",
       "3                       0.0                       0.0   \n",
       "4                       0.0                       0.0   \n",
       "\n",
       "   OBS_60_CNT_SOCIAL_CIRCLE  DEF_60_CNT_SOCIAL_CIRCLE  DAYS_LAST_PHONE_CHANGE  \\\n",
       "0                       0.0                       0.0                  -770.0   \n",
       "1                       1.0                       1.0                 -1069.0   \n",
       "2                       7.0                       0.0                  -933.0   \n",
       "3                       0.0                       0.0                 -1428.0   \n",
       "4                       0.0                       0.0                  -695.0   \n",
       "\n",
       "   FLAG_DOCUMENT_2  FLAG_DOCUMENT_3  FLAG_DOCUMENT_4  FLAG_DOCUMENT_5  \\\n",
       "0                0                1                0                0   \n",
       "1                0                1                0                0   \n",
       "2                0                1                0                0   \n",
       "3                0                1                0                0   \n",
       "4                0                1                0                0   \n",
       "\n",
       "   FLAG_DOCUMENT_6  FLAG_DOCUMENT_7  FLAG_DOCUMENT_8  FLAG_DOCUMENT_9  \\\n",
       "0                0                0                0                0   \n",
       "1                0                0                0                0   \n",
       "2                0                0                0                0   \n",
       "3                0                0                0                0   \n",
       "4                0                0                0                0   \n",
       "\n",
       "   FLAG_DOCUMENT_10  FLAG_DOCUMENT_11  FLAG_DOCUMENT_12  FLAG_DOCUMENT_13  \\\n",
       "0                 0                 0                 0                 0   \n",
       "1                 0                 0                 0                 0   \n",
       "2                 0                 0                 0                 0   \n",
       "3                 0                 0                 0                 0   \n",
       "4                 0                 0                 0                 0   \n",
       "\n",
       "   FLAG_DOCUMENT_14  FLAG_DOCUMENT_15  FLAG_DOCUMENT_16  FLAG_DOCUMENT_17  \\\n",
       "0                 0                 0                 0                 0   \n",
       "1                 0                 0                 0                 0   \n",
       "2                 0                 0                 0                 0   \n",
       "3                 0                 0                 0                 0   \n",
       "4                 0                 0                 0                 0   \n",
       "\n",
       "   FLAG_DOCUMENT_18  FLAG_DOCUMENT_19  FLAG_DOCUMENT_20  FLAG_DOCUMENT_21  \\\n",
       "0                 0                 0                 0                 0   \n",
       "1                 0                 0                 0                 0   \n",
       "2                 0                 0                 0                 0   \n",
       "3                 0                 0                 0                 0   \n",
       "4                 0                 0                 0                 0   \n",
       "\n",
       "   AMT_REQ_CREDIT_BUREAU_HOUR  AMT_REQ_CREDIT_BUREAU_DAY  \\\n",
       "0                         0.0                        0.0   \n",
       "1                         0.0                        0.0   \n",
       "2                         0.0                        0.0   \n",
       "3                         0.0                        0.0   \n",
       "4                         NaN                        NaN   \n",
       "\n",
       "   AMT_REQ_CREDIT_BUREAU_WEEK  AMT_REQ_CREDIT_BUREAU_MON  \\\n",
       "0                         0.0                        0.0   \n",
       "1                         0.0                        0.0   \n",
       "2                         0.0                        0.0   \n",
       "3                         0.0                        0.0   \n",
       "4                         NaN                        NaN   \n",
       "\n",
       "   AMT_REQ_CREDIT_BUREAU_QRT  AMT_REQ_CREDIT_BUREAU_YEAR  \n",
       "0                        0.0                         4.0  \n",
       "1                        0.0                         6.0  \n",
       "2                        0.0                         3.0  \n",
       "3                        1.0                         1.0  \n",
       "4                        NaN                         NaN  "
      ]
     },
     "execution_count": 6,
     "metadata": {},
     "output_type": "execute_result"
    }
   ],
   "source": [
    "train.head()"
   ]
  },
  {
   "cell_type": "markdown",
   "metadata": {},
   "source": [
    "##### Is there any primary key ?"
   ]
  },
  {
   "cell_type": "code",
   "execution_count": 231,
   "metadata": {},
   "outputs": [
    {
     "data": {
      "text/plain": [
       "['SK_ID_CURR']"
      ]
     },
     "execution_count": 231,
     "metadata": {},
     "output_type": "execute_result"
    }
   ],
   "source": [
    "[list(train.columns)[i] for i in range(len(list(train.columns))) \\\n",
    "                     if train[list(train.columns)[i]].nunique()==train.shape[0]]"
   ]
  },
  {
   "cell_type": "markdown",
   "metadata": {},
   "source": [
    "##### Is it true for test also ?"
   ]
  },
  {
   "cell_type": "code",
   "execution_count": 10,
   "metadata": {},
   "outputs": [
    {
     "data": {
      "text/plain": [
       "['SK_ID_CURR']"
      ]
     },
     "execution_count": 10,
     "metadata": {},
     "output_type": "execute_result"
    }
   ],
   "source": [
    "[list(test.columns)[i] for i in range(len(list(test.columns))) \\\n",
    "                     if test[list(test.columns)[i]].nunique()==test.shape[0]]"
   ]
  },
  {
   "cell_type": "markdown",
   "metadata": {},
   "source": [
    "<br> So we confirmed ,'SK_ID_CURR' is primary key and we will use this field for indexing in modeling<br>"
   ]
  },
  {
   "cell_type": "markdown",
   "metadata": {},
   "source": [
    "##### Let's see target"
   ]
  },
  {
   "cell_type": "code",
   "execution_count": 11,
   "metadata": {},
   "outputs": [
    {
     "data": {
      "text/plain": [
       "0    0.918936\n",
       "1    0.081064\n",
       "Name: TARGET, dtype: float64"
      ]
     },
     "execution_count": 11,
     "metadata": {},
     "output_type": "execute_result"
    }
   ],
   "source": [
    "train['TARGET'].value_counts(normalize=True)"
   ]
  },
  {
   "cell_type": "markdown",
   "metadata": {},
   "source": [
    "<br> 8% of TARGET in one class and 92% in other. That could be little challenging at the time of modeling<br>"
   ]
  },
  {
   "cell_type": "markdown",
   "metadata": {},
   "source": [
    "#### Let's separate numerical and categorical variables"
   ]
  },
  {
   "cell_type": "code",
   "execution_count": 23,
   "metadata": {},
   "outputs": [],
   "source": [
    "numerical_features=[features[i] for i in range(len(features)) \\\n",
    "                     if ((train[features[i]].dtypes=='float64')|(train[features[i]].dtypes=='int64')) and \\\n",
    "                            features[i]!='TARGET']"
   ]
  },
  {
   "cell_type": "code",
   "execution_count": 24,
   "metadata": {},
   "outputs": [],
   "source": [
    "categorical_features=[features[i] for i in range(len(features)) \\\n",
    "                     if (train[features[i]].dtypes!='float64')&(train[features[i]].dtypes!='int64')]"
   ]
  },
  {
   "cell_type": "markdown",
   "metadata": {},
   "source": [
    "##### Top5 numerical features corelated with TARGET"
   ]
  },
  {
   "cell_type": "code",
   "execution_count": 84,
   "metadata": {},
   "outputs": [
    {
     "data": {
      "text/html": [
       "<div>\n",
       "<style scoped>\n",
       "    .dataframe tbody tr th:only-of-type {\n",
       "        vertical-align: middle;\n",
       "    }\n",
       "\n",
       "    .dataframe tbody tr th {\n",
       "        vertical-align: top;\n",
       "    }\n",
       "\n",
       "    .dataframe thead th {\n",
       "        text-align: right;\n",
       "    }\n",
       "</style>\n",
       "<table border=\"1\" class=\"dataframe\">\n",
       "  <thead>\n",
       "    <tr style=\"text-align: right;\">\n",
       "      <th></th>\n",
       "      <th>feature</th>\n",
       "      <th>coefficient</th>\n",
       "    </tr>\n",
       "  </thead>\n",
       "  <tbody>\n",
       "    <tr>\n",
       "      <th>7</th>\n",
       "      <td>DAYS_BIRTH</td>\n",
       "      <td>0.081524</td>\n",
       "    </tr>\n",
       "    <tr>\n",
       "      <th>20</th>\n",
       "      <td>REGION_RATING_CLIENT_W_CITY</td>\n",
       "      <td>0.061044</td>\n",
       "    </tr>\n",
       "    <tr>\n",
       "      <th>19</th>\n",
       "      <td>REGION_RATING_CLIENT</td>\n",
       "      <td>0.059906</td>\n",
       "    </tr>\n",
       "    <tr>\n",
       "      <th>78</th>\n",
       "      <td>DAYS_LAST_PHONE_CHANGE</td>\n",
       "      <td>0.056998</td>\n",
       "    </tr>\n",
       "    <tr>\n",
       "      <th>10</th>\n",
       "      <td>DAYS_ID_PUBLISH</td>\n",
       "      <td>0.053369</td>\n",
       "    </tr>\n",
       "  </tbody>\n",
       "</table>\n",
       "</div>"
      ],
      "text/plain": [
       "                        feature  coefficient\n",
       "7                    DAYS_BIRTH     0.081524\n",
       "20  REGION_RATING_CLIENT_W_CITY     0.061044\n",
       "19         REGION_RATING_CLIENT     0.059906\n",
       "78       DAYS_LAST_PHONE_CHANGE     0.056998\n",
       "10              DAYS_ID_PUBLISH     0.053369"
      ]
     },
     "execution_count": 84,
     "metadata": {},
     "output_type": "execute_result"
    }
   ],
   "source": [
    "coeff=[]\n",
    "for num in numerical_features:\n",
    "    coeff.append(np.corrcoef(train[num], train['TARGET'])[0][1])\n",
    "df_numercial_coeff_target=pd.DataFrame(zip(numerical_features,coeff),columns=['feature','coefficient'])\n",
    "df_numercial_coeff_target.sort_values(by='coefficient',ascending=False).head(5)"
   ]
  },
  {
   "cell_type": "code",
   "execution_count": 85,
   "metadata": {},
   "outputs": [],
   "source": [
    "def numeric_eda(df, hue=None):\n",
    "    \"\"\"Given dataframe, generate Distribution of of numeric data\n",
    "    This function will give an idea of numerical data and can be extended for any\n",
    "    numerical variables\"\"\"\n",
    "    display(df.describe().T)\n",
    "    columns = df.select_dtypes(include=np.number).columns\n",
    "    figure = plt.figure(figsize=(20, 10))\n",
    "    figure.add_subplot(1, len(columns), 1)\n",
    "    for index, col in enumerate(columns):\n",
    "        if index > 0:\n",
    "            figure.add_subplot(1, len(columns), index + 1)\n",
    "        sns.boxplot(y=col, data=df, boxprops={'facecolor': 'None'})\n",
    "    figure.tight_layout()\n",
    "    plt.show()"
   ]
  },
  {
   "cell_type": "code",
   "execution_count": 86,
   "metadata": {},
   "outputs": [
    {
     "data": {
      "text/html": [
       "<div>\n",
       "<style scoped>\n",
       "    .dataframe tbody tr th:only-of-type {\n",
       "        vertical-align: middle;\n",
       "    }\n",
       "\n",
       "    .dataframe tbody tr th {\n",
       "        vertical-align: top;\n",
       "    }\n",
       "\n",
       "    .dataframe thead th {\n",
       "        text-align: right;\n",
       "    }\n",
       "</style>\n",
       "<table border=\"1\" class=\"dataframe\">\n",
       "  <thead>\n",
       "    <tr style=\"text-align: right;\">\n",
       "      <th></th>\n",
       "      <th>count</th>\n",
       "      <th>mean</th>\n",
       "      <th>std</th>\n",
       "      <th>min</th>\n",
       "      <th>25%</th>\n",
       "      <th>50%</th>\n",
       "      <th>75%</th>\n",
       "      <th>max</th>\n",
       "    </tr>\n",
       "  </thead>\n",
       "  <tbody>\n",
       "    <tr>\n",
       "      <th>DAYS_BIRTH</th>\n",
       "      <td>125000.0</td>\n",
       "      <td>-16043.327896</td>\n",
       "      <td>4367.787586</td>\n",
       "      <td>-25229.0</td>\n",
       "      <td>-19692.00</td>\n",
       "      <td>-15754.0</td>\n",
       "      <td>-12415.0</td>\n",
       "      <td>-7489.0</td>\n",
       "    </tr>\n",
       "    <tr>\n",
       "      <th>REGION_RATING_CLIENT_W_CITY</th>\n",
       "      <td>125000.0</td>\n",
       "      <td>2.031768</td>\n",
       "      <td>0.503262</td>\n",
       "      <td>1.0</td>\n",
       "      <td>2.00</td>\n",
       "      <td>2.0</td>\n",
       "      <td>2.0</td>\n",
       "      <td>3.0</td>\n",
       "    </tr>\n",
       "    <tr>\n",
       "      <th>REGION_RATING_CLIENT</th>\n",
       "      <td>125000.0</td>\n",
       "      <td>2.052328</td>\n",
       "      <td>0.509721</td>\n",
       "      <td>1.0</td>\n",
       "      <td>2.00</td>\n",
       "      <td>2.0</td>\n",
       "      <td>2.0</td>\n",
       "      <td>3.0</td>\n",
       "    </tr>\n",
       "    <tr>\n",
       "      <th>DAYS_LAST_PHONE_CHANGE</th>\n",
       "      <td>125000.0</td>\n",
       "      <td>-965.803944</td>\n",
       "      <td>828.138874</td>\n",
       "      <td>-4121.0</td>\n",
       "      <td>-1573.25</td>\n",
       "      <td>-760.0</td>\n",
       "      <td>-277.0</td>\n",
       "      <td>0.0</td>\n",
       "    </tr>\n",
       "    <tr>\n",
       "      <th>DAYS_ID_PUBLISH</th>\n",
       "      <td>125000.0</td>\n",
       "      <td>-2995.506800</td>\n",
       "      <td>1512.924375</td>\n",
       "      <td>-6551.0</td>\n",
       "      <td>-4304.00</td>\n",
       "      <td>-3260.0</td>\n",
       "      <td>-1713.0</td>\n",
       "      <td>0.0</td>\n",
       "    </tr>\n",
       "  </tbody>\n",
       "</table>\n",
       "</div>"
      ],
      "text/plain": [
       "                                count          mean          std      min  \\\n",
       "DAYS_BIRTH                   125000.0 -16043.327896  4367.787586 -25229.0   \n",
       "REGION_RATING_CLIENT_W_CITY  125000.0      2.031768     0.503262      1.0   \n",
       "REGION_RATING_CLIENT         125000.0      2.052328     0.509721      1.0   \n",
       "DAYS_LAST_PHONE_CHANGE       125000.0   -965.803944   828.138874  -4121.0   \n",
       "DAYS_ID_PUBLISH              125000.0  -2995.506800  1512.924375  -6551.0   \n",
       "\n",
       "                                  25%      50%      75%     max  \n",
       "DAYS_BIRTH                  -19692.00 -15754.0 -12415.0 -7489.0  \n",
       "REGION_RATING_CLIENT_W_CITY      2.00      2.0      2.0     3.0  \n",
       "REGION_RATING_CLIENT             2.00      2.0      2.0     3.0  \n",
       "DAYS_LAST_PHONE_CHANGE       -1573.25   -760.0   -277.0     0.0  \n",
       "DAYS_ID_PUBLISH              -4304.00  -3260.0  -1713.0     0.0  "
      ]
     },
     "metadata": {},
     "output_type": "display_data"
    },
    {
     "data": {
      "image/png": "[encoded data removed]",
      "text/plain": [
       "<Figure size 1440x720 with 5 Axes>"
      ]
     },
     "metadata": {
      "needs_background": "light"
     },
     "output_type": "display_data"
    }
   ],
   "source": [
    "numercial_coeff_target_col=list(df_numercial_coeff_target.sort_values(by='coefficient',\\\n",
    "                                                            ascending=False).head(5)['feature'])\n",
    "numeric_eda(train[numercial_coeff_target_col])"
   ]
  },
  {
   "cell_type": "code",
   "execution_count": 87,
   "metadata": {},
   "outputs": [],
   "source": [
    "def categorical_eda(df, hue=None):\n",
    "    \"\"\"Given dataframe, generate EDA of categorical data and relation with TARGET\"\"\"\n",
    "    # Plot count distribution of categorical data\n",
    "    for col in list(categorical_features):\n",
    "        fig = sns.catplot(x=col, kind=\"count\", data=df, hue=hue)\n",
    "        fig.set_xticklabels(rotation=90)\n",
    "        plt.show()"
   ]
  },
  {
   "cell_type": "code",
   "execution_count": 88,
   "metadata": {},
   "outputs": [
    {
     "data": {
      "image/png": "[encoded data removed]",
      "text/plain": [
       "<Figure size 407.75x360 with 1 Axes>"
      ]
     },
     "metadata": {
      "needs_background": "light"
     },
     "output_type": "display_data"
    },
    {
     "data": {
      "image/png": "[encoded data removed]",
      "text/plain": [
       "<Figure size 407.75x360 with 1 Axes>"
      ]
     },
     "metadata": {
      "needs_background": "light"
     },
     "output_type": "display_data"
    },
    {
     "data": {
      "image/png": "[encoded data removed]",
      "text/plain": [
       "<Figure size 407.75x360 with 1 Axes>"
      ]
     },
     "metadata": {
      "needs_background": "light"
     },
     "output_type": "display_data"
    },
    {
     "data": {
      "image/png": "[encoded data removed]",
      "text/plain": [
       "<Figure size 407.75x360 with 1 Axes>"
      ]
     },
     "metadata": {
      "needs_background": "light"
     },
     "output_type": "display_data"
    },
    {
     "data": {
      "image/png": "[encoded data removed]",
      "text/plain": [
       "<Figure size 407.75x360 with 1 Axes>"
      ]
     },
     "metadata": {
      "needs_background": "light"
     },
     "output_type": "display_data"
    },
    {
     "data": {
      "image/png": "[encoded data removed]",
      "text/plain": [
       "<Figure size 407.75x360 with 1 Axes>"
      ]
     },
     "metadata": {
      "needs_background": "light"
     },
     "output_type": "display_data"
    },
    {
     "data": {
      "image/png": "[encoded data removed]",
      "text/plain": [
       "<Figure size 407.75x360 with 1 Axes>"
      ]
     },
     "metadata": {
      "needs_background": "light"
     },
     "output_type": "display_data"
    },
    {
     "data": {
      "image/png": "[encoded data removed]",
      "text/plain": [
       "<Figure size 407.75x360 with 1 Axes>"
      ]
     },
     "metadata": {
      "needs_background": "light"
     },
     "output_type": "display_data"
    },
    {
     "data": {
      "image/png": "[encoded data removed]",
      "text/plain": [
       "<Figure size 407.75x360 with 1 Axes>"
      ]
     },
     "metadata": {
      "needs_background": "light"
     },
     "output_type": "display_data"
    },
    {
     "data": {
      "image/png": "[encoded data removed]",
      "text/plain": [
       "<Figure size 407.75x360 with 1 Axes>"
      ]
     },
     "metadata": {
      "needs_background": "light"
     },
     "output_type": "display_data"
    },
    {
     "data": {
      "image/png": "[encoded data removed]",
      "text/plain": [
       "<Figure size 407.75x360 with 1 Axes>"
      ]
     },
     "metadata": {
      "needs_background": "light"
     },
     "output_type": "display_data"
    },
    {
     "data": {
      "image/png": "[encoded data removed]",
      "text/plain": [
       "<Figure size 407.75x360 with 1 Axes>"
      ]
     },
     "metadata": {
      "needs_background": "light"
     },
     "output_type": "display_data"
    },
    {
     "data": {
      "image/png": "[encoded data removed]",
      "text/plain": [
       "<Figure size 407.75x360 with 1 Axes>"
      ]
     },
     "metadata": {
      "needs_background": "light"
     },
     "output_type": "display_data"
    },
    {
     "data": {
      "image/png": "[encoded data removed]",
      "text/plain": [
       "<Figure size 407.75x360 with 1 Axes>"
      ]
     },
     "metadata": {
      "needs_background": "light"
     },
     "output_type": "display_data"
    },
    {
     "data": {
      "image/png": "[encoded data removed]",
      "text/plain": [
       "<Figure size 407.75x360 with 1 Axes>"
      ]
     },
     "metadata": {
      "needs_background": "light"
     },
     "output_type": "display_data"
    },
    {
     "data": {
      "image/png": "[encoded data removed]",
      "text/plain": [
       "<Figure size 407.75x360 with 1 Axes>"
      ]
     },
     "metadata": {
      "needs_background": "light"
     },
     "output_type": "display_data"
    }
   ],
   "source": [
    "categorical_eda(train,'TARGET')"
   ]
  },
  {
   "cell_type": "markdown",
   "metadata": {},
   "source": [
    "#### Missing Value"
   ]
  },
  {
   "cell_type": "code",
   "execution_count": 92,
   "metadata": {},
   "outputs": [
    {
     "name": "stdout",
     "output_type": "stream",
     "text": [
      "OWN_CAR_AGE - 0.66\n",
      "YEARS_BUILD_AVG - 0.66\n",
      "COMMONAREA_AVG - 0.7\n",
      "FLOORSMIN_AVG - 0.68\n",
      "LIVINGAPARTMENTS_AVG - 0.68\n",
      "NONLIVINGAPARTMENTS_AVG - 0.69\n",
      "YEARS_BUILD_MODE - 0.66\n",
      "COMMONAREA_MODE - 0.7\n",
      "FLOORSMIN_MODE - 0.68\n",
      "LIVINGAPARTMENTS_MODE - 0.68\n",
      "NONLIVINGAPARTMENTS_MODE - 0.69\n",
      "YEARS_BUILD_MEDI - 0.66\n",
      "COMMONAREA_MEDI - 0.7\n",
      "FLOORSMIN_MEDI - 0.68\n",
      "LIVINGAPARTMENTS_MEDI - 0.68\n",
      "NONLIVINGAPARTMENTS_MEDI - 0.69\n",
      "16\n"
     ]
    }
   ],
   "source": [
    "features=list(train.columns)\n",
    "columns_to_drop=[]\n",
    "for column in features:\n",
    "    missing_prcntg=round(train[column].isnull().sum()/len(train),2)\n",
    "    if missing_prcntg >= .6 :\n",
    "        print (column+' - '+str(missing_prcntg))\n",
    "        columns_to_drop.append(str(column))\n",
    "print(len(columns_to_drop))"
   ]
  },
  {
   "cell_type": "markdown",
   "metadata": {},
   "source": [
    "#### What we can observe from EDA"
   ]
  },
  {
   "cell_type": "markdown",
   "metadata": {},
   "source": [
    " <br> For 16 columns missing value percentage is more than 60%<br> If we change to 50% then we can \n",
    "see for 41 columns. Missing value percentage is very high<br> Among the neumerical variables , DAYS_BIRTH \n",
    "is showing the highest corelation with TARGET. This distribution is also normal <br> REGION_RATING_CLIENT_W_CITY and \n",
    "REGION_RATING_CLIENT -these two fields are showing good correlation with target. But their distribution is \n",
    "very unusual and need more data analysis for this fields <br> DAYS_LAST_PHONE_CHANGE is right skewed distribution \n",
    "and that is expected <br> For better understanding of numerical variables, more analysis required <br> For all categorical variables, we can see more TARGET 0 than 1 and it is expected as ratio of TARGET 0 to TARGET 1 is 92:8 \n",
    "<br> Some iteresting observations- for example, CODE_GENDER ratio of TARGET 1 to 0, is more for 'M' than 'W'.<br>\n",
    "For NAME_EDUCATION_TYPE , 'Secondary' has more TARGET 1 to 0 ratio than other categories <br> for NAME_TYPE_SUITE, \n",
    "'Unaccompanied' has more TARGET 1 to 0 ratio <br> In general, some interesting observation,\n",
    "we can find from EDA but more in depth EDA required for better understanding of the data"
   ]
  },
  {
   "cell_type": "markdown",
   "metadata": {},
   "source": [
    "### Phase 1 Modeling"
   ]
  },
  {
   "cell_type": "markdown",
   "metadata": {},
   "source": [
    "#### Missing Value Imputation"
   ]
  },
  {
   "cell_type": "markdown",
   "metadata": {},
   "source": [
    "#### First of all, we will drop features more than 60% null value"
   ]
  },
  {
   "cell_type": "code",
   "execution_count": 93,
   "metadata": {},
   "outputs": [],
   "source": [
    "numerical_features=list(set(numerical_features)-set(columns_to_drop))"
   ]
  },
  {
   "cell_type": "markdown",
   "metadata": {},
   "source": [
    "##### Neumerical features missing values will be replaced by mean of that column"
   ]
  },
  {
   "cell_type": "code",
   "execution_count": 94,
   "metadata": {},
   "outputs": [],
   "source": [
    "train[numerical_features]=train[numerical_features].fillna(train[numerical_features].mean())"
   ]
  },
  {
   "cell_type": "code",
   "execution_count": 95,
   "metadata": {},
   "outputs": [],
   "source": [
    "test[numerical_features]=test[numerical_features].fillna(test[numerical_features].mean())"
   ]
  },
  {
   "cell_type": "markdown",
   "metadata": {},
   "source": [
    "##### Categorical Features missing values will be replaced by most frequest observation"
   ]
  },
  {
   "cell_type": "code",
   "execution_count": 96,
   "metadata": {},
   "outputs": [],
   "source": [
    "categorical_features=list(set(categorical_features)-set(columns_to_drop))"
   ]
  },
  {
   "cell_type": "code",
   "execution_count": 98,
   "metadata": {},
   "outputs": [],
   "source": [
    "imp_mean = SimpleImputer( strategy='most_frequent')\n",
    "imp_mean.fit(train[categorical_features])\n",
    "train[categorical_features] = imp_mean.transform(train[categorical_features])\n",
    "imp_mean.fit(test[categorical_features])\n",
    "test[categorical_features] = imp_mean.transform(test[categorical_features])"
   ]
  },
  {
   "cell_type": "code",
   "execution_count": 99,
   "metadata": {},
   "outputs": [
    {
     "data": {
      "text/plain": [
       "(125000, 230)"
      ]
     },
     "execution_count": 99,
     "metadata": {},
     "output_type": "execute_result"
    }
   ],
   "source": [
    "reduce_train=train[list(set(features)-set(columns_to_drop))]\n",
    "reduce_train=pd.get_dummies(reduce_train)\n",
    "reduce_train.shape"
   ]
  },
  {
   "cell_type": "code",
   "execution_count": 100,
   "metadata": {},
   "outputs": [
    {
     "data": {
      "text/plain": [
       "(48744, 226)"
      ]
     },
     "execution_count": 100,
     "metadata": {},
     "output_type": "execute_result"
    }
   ],
   "source": [
    "reduce_test=test[list(set(features)-set(columns_to_drop)-{'TARGET'})]\n",
    "reduce_test=pd.get_dummies(reduce_test)\n",
    "reduce_test.shape"
   ]
  },
  {
   "cell_type": "markdown",
   "metadata": {},
   "source": [
    "##### There are some features in train but not in test. We will drop any feature if not in test"
   ]
  },
  {
   "cell_type": "code",
   "execution_count": 101,
   "metadata": {},
   "outputs": [
    {
     "data": {
      "text/plain": [
       "(125000, 227)"
      ]
     },
     "execution_count": 101,
     "metadata": {},
     "output_type": "execute_result"
    }
   ],
   "source": [
    "features=list(set(reduce_test.columns)|{'TARGET'})\n",
    "reduce_train=reduce_train[features]\n",
    "reduce_train.shape"
   ]
  },
  {
   "cell_type": "markdown",
   "metadata": {},
   "source": [
    "##### Is there any useless feature ?"
   ]
  },
  {
   "cell_type": "code",
   "execution_count": 102,
   "metadata": {},
   "outputs": [
    {
     "data": {
      "text/plain": [
       "[]"
      ]
     },
     "execution_count": 102,
     "metadata": {},
     "output_type": "execute_result"
    }
   ],
   "source": [
    "[features[i] for i in range(len(features)) if reduce_train[features[i]].mean()==0]"
   ]
  },
  {
   "cell_type": "markdown",
   "metadata": {},
   "source": [
    "##### If two numerical features have corelation coefficient > .99 we will drop one of them"
   ]
  },
  {
   "cell_type": "code",
   "execution_count": 118,
   "metadata": {},
   "outputs": [],
   "source": [
    "to_reduce=[]\n",
    "for feat_a in numerical_features:\n",
    "    for feat_b in numerical_features:\n",
    "        if feat_a != feat_b and feat_a not in to_reduce and feat_b not in to_reduce:\n",
    "            c = np.corrcoef(train[feat_a], train[feat_b])[0][1]\n",
    "            if c > 0.99:\n",
    "                to_reduce.append(feat_b)"
   ]
  },
  {
   "cell_type": "code",
   "execution_count": 119,
   "metadata": {},
   "outputs": [
    {
     "data": {
      "text/plain": [
       "[]"
      ]
     },
     "execution_count": 119,
     "metadata": {},
     "output_type": "execute_result"
    }
   ],
   "source": [
    "to_reduce"
   ]
  },
  {
   "cell_type": "markdown",
   "metadata": {},
   "source": [
    "##### Check if any missing value exist"
   ]
  },
  {
   "cell_type": "code",
   "execution_count": 104,
   "metadata": {},
   "outputs": [
    {
     "data": {
      "text/plain": [
       "[]"
      ]
     },
     "execution_count": 104,
     "metadata": {},
     "output_type": "execute_result"
    }
   ],
   "source": [
    "[list(reduce_train.columns)[i] for i in range(len(reduce_train.columns)) if \\\n",
    "         reduce_train[list(reduce_train.columns)[0]].isnull().values.any()==True]"
   ]
  },
  {
   "cell_type": "code",
   "execution_count": 105,
   "metadata": {},
   "outputs": [
    {
     "data": {
      "text/plain": [
       "[]"
      ]
     },
     "execution_count": 105,
     "metadata": {},
     "output_type": "execute_result"
    }
   ],
   "source": [
    "[list(reduce_test.columns)[i] for i in range(len(reduce_test.columns)) if \\\n",
    "         reduce_test[list(reduce_test.columns)[0]].isnull().values.any()==True]"
   ]
  },
  {
   "cell_type": "markdown",
   "metadata": {},
   "source": [
    "### Model preparation"
   ]
  },
  {
   "cell_type": "code",
   "execution_count": 106,
   "metadata": {},
   "outputs": [],
   "source": [
    "reduce_train=reduce_train.set_index(['SK_ID_CURR'])\n",
    "reduce_test=reduce_test.set_index(['SK_ID_CURR'])"
   ]
  },
  {
   "cell_type": "markdown",
   "metadata": {},
   "source": [
    "#### For final evaluation of different models  , seperating 10% of data"
   ]
  },
  {
   "cell_type": "code",
   "execution_count": 107,
   "metadata": {},
   "outputs": [],
   "source": [
    "indices=reduce_train.index.values\n",
    "labels = np.array(reduce_train['TARGET'])\n",
    "model_features= reduce_train.drop('TARGET', axis = 1)\n",
    "model_features = np.array(model_features)\n",
    "train_features, eval_features, train_labels, eval_labels,idx_train,idx_eval = \\\n",
    "            train_test_split(model_features, labels,indices, test_size = 0.1, random_state = 42)"
   ]
  },
  {
   "cell_type": "markdown",
   "metadata": {},
   "source": [
    "#### Base Model - Logistic regression"
   ]
  },
  {
   "cell_type": "code",
   "execution_count": 108,
   "metadata": {},
   "outputs": [],
   "source": [
    "clf = LogisticRegression(random_state=0).fit(train_features, train_labels)"
   ]
  },
  {
   "cell_type": "markdown",
   "metadata": {},
   "source": [
    "##### Let's define two functions for getting different metrices for score and error analysis later"
   ]
  },
  {
   "cell_type": "code",
   "execution_count": 109,
   "metadata": {},
   "outputs": [],
   "source": [
    "def get_roc_curve_auc(model,features,labels):\n",
    "    \"\"\" This function will take model, features and prediction labels and\n",
    "    produce ROC curve with AUC value for train,eval data sets\"\"\"\n",
    "    probs = model.predict_proba(features)\n",
    "    preds = probs[:,1]\n",
    "    fpr, tpr, threshold = metrics.roc_curve(labels, preds)\n",
    "    roc_auc = metrics.auc(fpr, tpr)\n",
    "\n",
    "    plt.title('Receiver Operating Characteristic')\n",
    "    plt.plot(fpr, tpr, 'b', label = 'AUC = %0.2f' % roc_auc)\n",
    "    plt.legend(loc = 'lower right')\n",
    "    plt.plot([0, 1], [0, 1],'r--')\n",
    "    plt.xlim([0, 1])\n",
    "    plt.ylim([0, 1])\n",
    "    plt.ylabel('True Positive Rate')\n",
    "    plt.xlabel('False Positive Rate')\n",
    "    plt.show()"
   ]
  },
  {
   "cell_type": "code",
   "execution_count": 110,
   "metadata": {},
   "outputs": [],
   "source": [
    "def get_accuracy_for_target1_for_thresold(model,features,labels,thresold):\n",
    "    \"\"\" Purpose of this function is to check accuracy when TARGET 1 with \n",
    "        overall accuracy,FP,FN for given thresold also to see data for error analysis\n",
    "        input - model (random forest,xgboost etc.)\n",
    "        features and labels (train,eval,test etc) and thresold\n",
    "        output- accuracy for target 1,overall accuracy,FP,FN\"\"\"\n",
    "    df_ana=pd.DataFrame(list(zip(model.predict_proba(features)[:,0],\\\n",
    "                    model.predict_proba(features)[:,1],labels)),\\\n",
    "                    columns=['prob_0','prob_1','true'])\n",
    "    # check accuracy when true label=1\n",
    "    df_ana_1=df_ana[df_ana['true']==1]\n",
    "    df_ana_1['prob_1_thrshold']=np.where(df_ana_1['prob_1']>thresold,1,0)\n",
    "    print('accuracy for target=1 :  '+ str(df_ana_1['prob_1_thrshold'].sum()/df_ana_1.shape[0]))\n",
    "    \n",
    "    df_ana['prob_1_thrshold']=np.where(df_ana['prob_1']>thresold,1,0)\n",
    "\n",
    "    print('accuracy  : '+str(df_ana[df_ana['prob_1_thrshold']==\\\n",
    "                                          df_ana['true']].shape[0]/df_ana.shape[0]))\n",
    "    print('FP : '+str(df_ana[(df_ana['prob_1_thrshold']==1)&(df_ana['true']==0)]\\\n",
    "                                          .shape[0]/df_ana.shape[0]))\n",
    "    print('FN : '+str(df_ana[(df_ana['prob_1_thrshold']==0)&(df_ana['true']==1)]\\\n",
    "                      .shape[0]/df_ana.shape[0]))"
   ]
  },
  {
   "cell_type": "code",
   "execution_count": 111,
   "metadata": {},
   "outputs": [
    {
     "data": {
      "image/png": "[encoded data removed]",
      "text/plain": [
       "<Figure size 432x288 with 1 Axes>"
      ]
     },
     "metadata": {
      "needs_background": "light"
     },
     "output_type": "display_data"
    }
   ],
   "source": [
    "get_roc_curve_auc(clf,eval_features,eval_labels)"
   ]
  },
  {
   "cell_type": "code",
   "execution_count": 113,
   "metadata": {},
   "outputs": [
    {
     "name": "stdout",
     "output_type": "stream",
     "text": [
      "accuracy for target=1 :  0.45766041030117854\n",
      "accuracy  : 0.6938044444444444\n",
      "FP : 0.2620177777777778\n",
      "FN : 0.04417777777777778\n"
     ]
    }
   ],
   "source": [
    "get_accuracy_for_target1_for_thresold(clf,train_features,train_labels,.1)"
   ]
  },
  {
   "cell_type": "code",
   "execution_count": 112,
   "metadata": {},
   "outputs": [
    {
     "name": "stdout",
     "output_type": "stream",
     "text": [
      "accuracy for target=1 :  0.4716202270381837\n",
      "accuracy  : 0.69448\n",
      "FP : 0.26456\n",
      "FN : 0.04096\n"
     ]
    }
   ],
   "source": [
    "get_accuracy_for_target1_for_thresold(clf,eval_features,eval_labels,.1)"
   ]
  },
  {
   "cell_type": "markdown",
   "metadata": {},
   "source": [
    "##### Conclusion from base model"
   ]
  },
  {
   "cell_type": "markdown",
   "metadata": {},
   "source": [
    "<br> Base model accuracy apparently not too bad . But we have 90% TARGET 0, that means without doing any modeling <br>\n",
    "if we put 0 for all target still overall accuracy will be 90%. That is why we are interested to know accuracy for <br>\n",
    "TARGET 1. We can see here FP is really high if we lower thresold to .1. Good part is that not much difference in<br> \n",
    "traing and evaluation performance,i.e. not much overfitting  <br> Let's try some ensemble methods\n"
   ]
  },
  {
   "cell_type": "markdown",
   "metadata": {},
   "source": [
    "#### Random Forest"
   ]
  },
  {
   "cell_type": "markdown",
   "metadata": {},
   "source": [
    "##### We will run extensive grid search for pypermeter tuning to get best Random Forest(RF) model\n",
    "##### All models will be cross validated (CV)\n",
    "##### In the code below, I ran 36 models (total 180) including CV took around 1 hr in local machine"
   ]
  },
  {
   "cell_type": "code",
   "execution_count": 255,
   "metadata": {},
   "outputs": [
    {
     "name": "stdout",
     "output_type": "stream",
     "text": [
      "Fitting 5 folds for each of 36 candidates, totalling 180 fits\n"
     ]
    },
    {
     "name": "stderr",
     "output_type": "stream",
     "text": [
      "[Parallel(n_jobs=-1)]: Using backend LokyBackend with 4 concurrent workers.\n",
      "[Parallel(n_jobs=-1)]: Done  42 tasks      | elapsed:  7.5min\n",
      "[Parallel(n_jobs=-1)]: Done 180 out of 180 | elapsed: 56.5min finished\n"
     ]
    },
    {
     "name": "stdout",
     "output_type": "stream",
     "text": [
      "{'max_depth': 3, 'min_samples_leaf': 1, 'min_samples_split': 2, 'n_estimators': 50}\n",
      "CPU times: user 5.68 s, sys: 466 ms, total: 6.15 s\n",
      "Wall time: 56min 36s\n"
     ]
    }
   ],
   "source": [
    "%%time\n",
    "forest = RandomForestClassifier()\n",
    "n_estimators = [50,200,500]\n",
    "max_depth = [3,5,10]\n",
    "min_samples_split = [2,5]\n",
    "min_samples_leaf = [1,3] \n",
    "\n",
    "hyperF = dict(n_estimators = n_estimators, max_depth = max_depth,  \n",
    "              min_samples_split = min_samples_split, \n",
    "             min_samples_leaf = min_samples_leaf)\n",
    "\n",
    "gridF = GridSearchCV(forest, hyperF, cv = 5, verbose = 1, n_jobs = -1)\n",
    "bestF = gridF.fit(train_features, train_labels)\n",
    "print(bestF.best_params_)"
   ]
  },
  {
   "cell_type": "code",
   "execution_count": 256,
   "metadata": {},
   "outputs": [
    {
     "data": {
      "text/plain": [
       "{'max_depth': 3,\n",
       " 'min_samples_leaf': 1,\n",
       " 'min_samples_split': 2,\n",
       " 'n_estimators': 50}"
      ]
     },
     "execution_count": 256,
     "metadata": {},
     "output_type": "execute_result"
    }
   ],
   "source": [
    "bestF.best_params_"
   ]
  },
  {
   "cell_type": "markdown",
   "metadata": {},
   "source": [
    "##### Best RF model and check performance in evaluation data set"
   ]
  },
  {
   "cell_type": "code",
   "execution_count": 114,
   "metadata": {},
   "outputs": [
    {
     "data": {
      "image/png": "[encoded data removed]",
      "text/plain": [
       "<Figure size 432x288 with 1 Axes>"
      ]
     },
     "metadata": {
      "needs_background": "light"
     },
     "output_type": "display_data"
    }
   ],
   "source": [
    "rf_model = RandomForestClassifier(random_state = 1,\n",
    "                               n_estimators=50, \n",
    "                               max_depth = 3, \n",
    "                               min_samples_split = 2,\n",
    "                               min_samples_leaf = 1)\n",
    "rf_model.fit(train_features, train_labels)\n",
    "get_roc_curve_auc(rf_model,eval_features,eval_labels)\n"
   ]
  },
  {
   "cell_type": "code",
   "execution_count": 121,
   "metadata": {},
   "outputs": [
    {
     "name": "stdout",
     "output_type": "stream",
     "text": [
      "accuracy for target=1 :  0.39426014840680923\n",
      "accuracy  : 0.8307377777777778\n",
      "FP : 0.11992\n",
      "FN : 0.049342222222222225\n",
      "None\n",
      "accuracy for target=1 :  0.3993808049535604\n",
      "accuracy  : 0.82968\n",
      "FP : 0.12376\n",
      "FN : 0.04656\n",
      "None\n"
     ]
    }
   ],
   "source": [
    "print(get_accuracy_for_target1_for_thresold(rf_model,train_features,train_labels,.1))\n",
    "print(get_accuracy_for_target1_for_thresold(rf_model,eval_features,eval_labels,.1))"
   ]
  },
  {
   "cell_type": "markdown",
   "metadata": {},
   "source": [
    "##### Conclusion from RF"
   ]
  },
  {
   "cell_type": "markdown",
   "metadata": {},
   "source": [
    "<br> RF has significant improvement over Base model(Logistic Regression). <br> AUC is now .72 instead of .63<br>\n",
    "But for lower thresold .1 we can see accuracy for target=1 is 40% which is not good <br. Another observation,\n",
    "the best model found has maximum depth 3 and number of estimators 50 which is not usual <br>\n",
    "<br> But FP has lowered and not overfitting"
   ]
  },
  {
   "cell_type": "markdown",
   "metadata": {},
   "source": [
    "### xgboost"
   ]
  },
  {
   "cell_type": "markdown",
   "metadata": {},
   "source": [
    "##### Now Extensive random search for XGBoost. As XGBoost is very expensive instead of grid search <br> we are doing random search\n",
    "##### Total running time is 2 hrs 20 min in local machine"
   ]
  },
  {
   "cell_type": "code",
   "execution_count": 287,
   "metadata": {},
   "outputs": [],
   "source": [
    "params = {\n",
    "        'min_child_weight': [1, 5, 10],\n",
    "        'gamma': [0.5, 1, 1.5, 2, 5],\n",
    "        'subsample': [0.6, 0.8, 1.0],\n",
    "        'colsample_bytree': [0.6, 0.8, 1.0],\n",
    "        'max_depth': [3, 4, 5]\n",
    "        }"
   ]
  },
  {
   "cell_type": "code",
   "execution_count": 288,
   "metadata": {},
   "outputs": [],
   "source": [
    "xgb = XGBClassifier(learning_rate=0.01, n_estimators=600, objective='binary:logistic',silent=True, nthread=1)"
   ]
  },
  {
   "cell_type": "code",
   "execution_count": 289,
   "metadata": {},
   "outputs": [
    {
     "name": "stdout",
     "output_type": "stream",
     "text": [
      "Fitting 5 folds for each of 5 candidates, totalling 25 fits\n"
     ]
    },
    {
     "name": "stderr",
     "output_type": "stream",
     "text": [
      "[Parallel(n_jobs=4)]: Using backend LokyBackend with 4 concurrent workers.\n",
      "[Parallel(n_jobs=4)]: Done  25 out of  25 | elapsed: 126.0min finished\n"
     ]
    },
    {
     "name": "stdout",
     "output_type": "stream",
     "text": [
      "CPU times: user 13min 36s, sys: 2.67 s, total: 13min 39s\n",
      "Wall time: 2h 19min 40s\n"
     ]
    },
    {
     "data": {
      "text/plain": [
       "RandomizedSearchCV(cv=<generator object _BaseKFold.split at 0x118b3e7d0>,\n",
       "                   error_score='raise-deprecating',\n",
       "                   estimator=XGBClassifier(base_score=0.5, booster='gbtree',\n",
       "                                           colsample_bylevel=1,\n",
       "                                           colsample_bynode=1,\n",
       "                                           colsample_bytree=1, gamma=0,\n",
       "                                           learning_rate=0.01, max_delta_step=0,\n",
       "                                           max_depth=3, min_child_weight=1,\n",
       "                                           missing=None, n_estimators=600,\n",
       "                                           n_jobs=1, nthread=1,\n",
       "                                           objective='...\n",
       "                                           reg_lambda=1, scale_pos_weight=1,\n",
       "                                           seed=None, silent=True, subsample=1,\n",
       "                                           verbosity=1),\n",
       "                   iid='warn', n_iter=5, n_jobs=4,\n",
       "                   param_distributions={'colsample_bytree': [0.6, 0.8, 1.0],\n",
       "                                        'gamma': [0.5, 1, 1.5, 2, 5],\n",
       "                                        'max_depth': [3, 4, 5],\n",
       "                                        'min_child_weight': [1, 5, 10],\n",
       "                                        'subsample': [0.6, 0.8, 1.0]},\n",
       "                   pre_dispatch='2*n_jobs', random_state=1001, refit=True,\n",
       "                   return_train_score=False, scoring='roc_auc', verbose=3)"
      ]
     },
     "execution_count": 289,
     "metadata": {},
     "output_type": "execute_result"
    }
   ],
   "source": [
    "%%time\n",
    "folds = 5\n",
    "param_comb = 5\n",
    "\n",
    "Y = train_labels\n",
    "X = train_features\n",
    "\n",
    "skf = StratifiedKFold(n_splits=folds, shuffle = True, random_state = 1001)\n",
    "random_search = RandomizedSearchCV(xgb, param_distributions=params, \\\n",
    "                    n_iter=param_comb, scoring='roc_auc', n_jobs=4, cv=skf.split(X,Y), verbose=3, random_state=1001 )\n",
    "random_search.fit(X, Y)"
   ]
  },
  {
   "cell_type": "code",
   "execution_count": 291,
   "metadata": {},
   "outputs": [
    {
     "name": "stdout",
     "output_type": "stream",
     "text": [
      "\n",
      " Best estimator:\n",
      "XGBClassifier(base_score=0.5, booster='gbtree', colsample_bylevel=1,\n",
      "              colsample_bynode=1, colsample_bytree=0.8, gamma=1.5,\n",
      "              learning_rate=0.01, max_delta_step=0, max_depth=5,\n",
      "              min_child_weight=1, missing=None, n_estimators=600, n_jobs=1,\n",
      "              nthread=1, objective='binary:logistic', random_state=0,\n",
      "              reg_alpha=0, reg_lambda=1, scale_pos_weight=1, seed=None,\n",
      "              silent=True, subsample=0.6, verbosity=1)\n",
      "\n",
      " Best normalized gini score for 5-fold search with 5 parameter combinations:\n",
      "0.4995718372005442\n",
      "\n",
      " Best hyperparameters:\n",
      "{'subsample': 0.6, 'min_child_weight': 1, 'max_depth': 5, 'gamma': 1.5, 'colsample_bytree': 0.8}\n"
     ]
    }
   ],
   "source": [
    "print('\\n Best estimator:')\n",
    "print(random_search.best_estimator_)\n",
    "print('\\n Best normalized gini score for %d-fold search with %d parameter combinations:' % (folds, param_comb))\n",
    "print(random_search.best_score_ * 2 - 1)\n",
    "print('\\n Best hyperparameters:')\n",
    "print(random_search.best_params_)"
   ]
  },
  {
   "cell_type": "code",
   "execution_count": 123,
   "metadata": {},
   "outputs": [
    {
     "data": {
      "image/png": "[encoded data removed]",
      "text/plain": [
       "<Figure size 432x288 with 1 Axes>"
      ]
     },
     "metadata": {
      "needs_background": "light"
     },
     "output_type": "display_data"
    },
    {
     "name": "stdout",
     "output_type": "stream",
     "text": [
      "CPU times: user 13min 51s, sys: 2.3 s, total: 13min 54s\n",
      "Wall time: 13min 57s\n"
     ]
    }
   ],
   "source": [
    "%%time\n",
    "xgb_model= XGBClassifier(base_score=0.5, booster='gbtree', colsample_bylevel=1,\n",
    "              colsample_bynode=1, colsample_bytree=0.8, gamma=1.5,\n",
    "              learning_rate=0.01, max_delta_step=0, max_depth=5,\n",
    "              min_child_weight=1, missing=None, n_estimators=600, n_jobs=1,\n",
    "              nthread=1, objective='binary:logistic', random_state=0,\n",
    "              reg_alpha=0, reg_lambda=1, scale_pos_weight=1, seed=None,\n",
    "              silent=True, subsample=0.6, verbosity=1)\n",
    "\n",
    "xgb_model.fit(train_features,train_labels)\n",
    "get_roc_curve_auc(xgb_model,eval_features,eval_labels)"
   ]
  },
  {
   "cell_type": "code",
   "execution_count": 124,
   "metadata": {},
   "outputs": [
    {
     "name": "stdout",
     "output_type": "stream",
     "text": [
      "accuracy for target=1 :  0.6457878655608904\n",
      "accuracy  : 0.7592888888888889\n",
      "FP : 0.21185777777777778\n",
      "FN : 0.028853333333333335\n",
      "None\n",
      "accuracy for target=1 :  0.5954592363261094\n",
      "accuracy  : 0.7524\n",
      "FP : 0.21624\n",
      "FN : 0.03136\n",
      "None\n"
     ]
    }
   ],
   "source": [
    "print(get_accuracy_for_target1_for_thresold(xgb_model,train_features,train_labels,.1))\n",
    "print(get_accuracy_for_target1_for_thresold(xgb_model,eval_features,eval_labels,.1))"
   ]
  },
  {
   "cell_type": "markdown",
   "metadata": {},
   "source": [
    "#### Conclusion from Phase 1"
   ]
  },
  {
   "cell_type": "markdown",
   "metadata": {},
   "source": [
    "<br>Starting from AUC .62 at Base model, RF and finally XGBoost showing significant development to AUC .75\n",
    "<br>But still model is not doing very good job in capturing TARGET 1\n",
    "<br>When we are getting better accuracy for TARGET 1, FP is also getting high or vice -versa\n",
    "<br> Too much missing value could be a problem, let's try better method for missing value imputation<br>"
   ]
  },
  {
   "cell_type": "markdown",
   "metadata": {},
   "source": [
    "### Phase 2\n",
    "#### Approach"
   ]
  },
  {
   "cell_type": "markdown",
   "metadata": {},
   "source": [
    "<br> This time we will use Multivariate Imputation of Chained Equation (MICE) for numerical variable\n",
    "<br> For categorical variables (much less than numerical variables in this data set), we stay with same method as before\n"
   ]
  },
  {
   "cell_type": "code",
   "execution_count": 126,
   "metadata": {},
   "outputs": [],
   "source": [
    "features=list(train.columns)\n",
    "numerical_features=[features[i] for i in range(len(features)) \\\n",
    "                     if ((train[features[i]].dtypes=='float64')|(train[features[i]].dtypes=='int64')) and \\\n",
    "                            features[i]!='TARGET']"
   ]
  },
  {
   "cell_type": "code",
   "execution_count": 127,
   "metadata": {},
   "outputs": [
    {
     "name": "stdout",
     "output_type": "stream",
     "text": [
      "CPU times: user 5min 33s, sys: 18.9 s, total: 5min 52s\n",
      "Wall time: 2min 59s\n"
     ]
    }
   ],
   "source": [
    "%%time\n",
    "MICE_imputer = IterativeImputer()\n",
    "train_MICE = train[numerical_features].copy(deep=True)\n",
    "train_MICE.iloc[:, :] = MICE_imputer.fit_transform(train_MICE)"
   ]
  },
  {
   "cell_type": "code",
   "execution_count": 128,
   "metadata": {},
   "outputs": [
    {
     "name": "stdout",
     "output_type": "stream",
     "text": [
      "CPU times: user 2min 14s, sys: 9.94 s, total: 2min 24s\n",
      "Wall time: 1min 4s\n"
     ]
    }
   ],
   "source": [
    "%%time\n",
    "test_MICE = test[numerical_features].copy(deep=True)\n",
    "test_MICE.iloc[:, :] = MICE_imputer.fit_transform(test_MICE)"
   ]
  },
  {
   "cell_type": "code",
   "execution_count": 129,
   "metadata": {},
   "outputs": [],
   "source": [
    "imp_mean = SimpleImputer( strategy='most_frequent')\n",
    "imp_mean.fit(train[categorical_features])\n",
    "train[categorical_features] = imp_mean.transform(train[categorical_features])\n",
    "imp_mean.fit(test[categorical_features])\n",
    "test[categorical_features] = imp_mean.transform(test[categorical_features])"
   ]
  },
  {
   "cell_type": "code",
   "execution_count": 130,
   "metadata": {},
   "outputs": [],
   "source": [
    "reduce_train=pd.concat([train_MICE,train[list(set(categorical_features)|{'TARGET'})]],axis=1)"
   ]
  },
  {
   "cell_type": "code",
   "execution_count": 131,
   "metadata": {},
   "outputs": [],
   "source": [
    "reduce_test=pd.concat([test_MICE,test[categorical_features]],axis=1)"
   ]
  },
  {
   "cell_type": "code",
   "execution_count": 132,
   "metadata": {},
   "outputs": [
    {
     "name": "stdout",
     "output_type": "stream",
     "text": [
      "(125000, 122)\n",
      "(48744, 121)\n"
     ]
    }
   ],
   "source": [
    "print(reduce_train.shape)\n",
    "print(reduce_test.shape)"
   ]
  },
  {
   "cell_type": "code",
   "execution_count": 133,
   "metadata": {},
   "outputs": [],
   "source": [
    "reduce_train=pd.get_dummies(reduce_train)\n",
    "reduce_test=pd.get_dummies(reduce_test)"
   ]
  },
  {
   "cell_type": "code",
   "execution_count": 134,
   "metadata": {},
   "outputs": [],
   "source": [
    "reduce_train=reduce_train[list(set(list(reduce_test.columns))|{'TARGET'})]"
   ]
  },
  {
   "cell_type": "code",
   "execution_count": 191,
   "metadata": {},
   "outputs": [
    {
     "data": {
      "text/plain": [
       "(125000, 243)"
      ]
     },
     "execution_count": 191,
     "metadata": {},
     "output_type": "execute_result"
    }
   ],
   "source": [
    "reduce_train.shape"
   ]
  },
  {
   "cell_type": "code",
   "execution_count": 192,
   "metadata": {},
   "outputs": [
    {
     "data": {
      "text/plain": [
       "(48744, 242)"
      ]
     },
     "execution_count": 192,
     "metadata": {},
     "output_type": "execute_result"
    }
   ],
   "source": [
    "reduce_test.shape"
   ]
  },
  {
   "cell_type": "code",
   "execution_count": 281,
   "metadata": {},
   "outputs": [],
   "source": [
    "to_exclude=[]\n",
    "test_features=list(reduce_test.columns)\n",
    "for i in range(len(test_features)):\n",
    "    adjust_factor=reduce_train[test_features[i]].mean()/reduce_test[test_features[i]].mean()\n",
    "    if (adjust_factor > 10) or (adjust_factor < .1) :\n",
    "        to_exclude.append(test_features[i])\n",
    "    else:\n",
    "        reduce_test[test_features[i]] *=adjust_factor"
   ]
  },
  {
   "cell_type": "code",
   "execution_count": 284,
   "metadata": {},
   "outputs": [
    {
     "data": {
      "text/plain": [
       "227"
      ]
     },
     "execution_count": 284,
     "metadata": {},
     "output_type": "execute_result"
    }
   ],
   "source": [
    "test_features=list(set(test_features)-set(to_exclude))"
   ]
  },
  {
   "cell_type": "code",
   "execution_count": 285,
   "metadata": {},
   "outputs": [
    {
     "data": {
      "text/plain": [
       "(125000, 228)"
      ]
     },
     "execution_count": 285,
     "metadata": {},
     "output_type": "execute_result"
    }
   ],
   "source": [
    "reduce_train=reduce_train[list(set(test_features)|{'TARGET'})]\n",
    "reduce_train.shape"
   ]
  },
  {
   "cell_type": "code",
   "execution_count": 286,
   "metadata": {},
   "outputs": [
    {
     "data": {
      "text/plain": [
       "(48744, 227)"
      ]
     },
     "execution_count": 286,
     "metadata": {},
     "output_type": "execute_result"
    }
   ],
   "source": [
    "reduce_test=reduce_test[test_features]\n",
    "reduce_test.shape"
   ]
  },
  {
   "cell_type": "markdown",
   "metadata": {},
   "source": [
    "##### Checking if everything is right"
   ]
  },
  {
   "cell_type": "code",
   "execution_count": 135,
   "metadata": {},
   "outputs": [
    {
     "data": {
      "text/plain": [
       "{'TARGET'}"
      ]
     },
     "execution_count": 135,
     "metadata": {},
     "output_type": "execute_result"
    }
   ],
   "source": [
    "set(list(reduce_train.columns))-set(list(reduce_test.columns))"
   ]
  },
  {
   "cell_type": "code",
   "execution_count": 136,
   "metadata": {},
   "outputs": [
    {
     "data": {
      "text/plain": [
       "[]"
      ]
     },
     "execution_count": 136,
     "metadata": {},
     "output_type": "execute_result"
    }
   ],
   "source": [
    "[list(reduce_train.columns)[i] for i in range(len(reduce_train.columns)) if \\\n",
    "         reduce_train[list(reduce_train.columns)[i]].isnull().values.any()==True]"
   ]
  },
  {
   "cell_type": "code",
   "execution_count": 137,
   "metadata": {},
   "outputs": [
    {
     "data": {
      "text/plain": [
       "[]"
      ]
     },
     "execution_count": 137,
     "metadata": {},
     "output_type": "execute_result"
    }
   ],
   "source": [
    "[list(reduce_test.columns)[i] for i in range(len(reduce_test.columns)) if \\\n",
    "         reduce_test[list(reduce_test.columns)[i]].isnull().values.any()==True]"
   ]
  },
  {
   "cell_type": "markdown",
   "metadata": {},
   "source": [
    "#### Model preperation as before"
   ]
  },
  {
   "cell_type": "code",
   "execution_count": 291,
   "metadata": {},
   "outputs": [],
   "source": [
    "reduce_train=reduce_train.set_index(['SK_ID_CURR'])\n",
    "reduce_test=reduce_test.set_index(['SK_ID_CURR'])\n",
    "indices=reduce_train.index.values\n",
    "labels = np.array(reduce_train['TARGET'])\n",
    "model_features= reduce_train.drop('TARGET', axis = 1)\n",
    "model_features = np.array(model_features)\n",
    "train_features, eval_features, train_labels, eval_labels,idx_train,idx_eval = \\\n",
    "            train_test_split(model_features, labels,indices, test_size = 0.1, random_state = 42)"
   ]
  },
  {
   "cell_type": "markdown",
   "metadata": {},
   "source": [
    "##### Best XGB model from Phase 1"
   ]
  },
  {
   "cell_type": "code",
   "execution_count": 292,
   "metadata": {},
   "outputs": [
    {
     "name": "stdout",
     "output_type": "stream",
     "text": [
      "CPU times: user 17min 6s, sys: 9.63 s, total: 17min 16s\n",
      "Wall time: 21min 50s\n"
     ]
    },
    {
     "data": {
      "text/plain": [
       "XGBClassifier(base_score=0.5, booster='gbtree', colsample_bylevel=1,\n",
       "              colsample_bynode=1, colsample_bytree=0.8, gamma=1.5,\n",
       "              learning_rate=0.02, max_delta_step=0, max_depth=5,\n",
       "              min_child_weight=1, missing=None, n_estimators=600, n_jobs=1,\n",
       "              nthread=1, objective='binary:logistic', random_state=0,\n",
       "              reg_alpha=0, reg_lambda=1, scale_pos_weight=1, seed=None,\n",
       "              silent=True, subsample=0.6, verbosity=1)"
      ]
     },
     "execution_count": 292,
     "metadata": {},
     "output_type": "execute_result"
    }
   ],
   "source": [
    "%%time\n",
    "xgb_model = XGBClassifier(base_score=0.5, booster='gbtree', colsample_bylevel=1,\n",
    "              colsample_bynode=1, colsample_bytree=0.8, gamma=1.5,\n",
    "              learning_rate=0.02, max_delta_step=0, max_depth=5,\n",
    "              min_child_weight=1, missing=None, n_estimators=600, n_jobs=1,\n",
    "              nthread=1, objective='binary:logistic', random_state=0,\n",
    "              reg_alpha=0, reg_lambda=1, scale_pos_weight=1, seed=None,\n",
    "              silent=True, subsample=0.6, verbosity=1)\n",
    "xgb_model.fit(train_features, train_labels)"
   ]
  },
  {
   "cell_type": "code",
   "execution_count": 309,
   "metadata": {},
   "outputs": [
    {
     "data": {
      "image/png": "[encoded data removed]",
      "text/plain": [
       "<Figure size 432x288 with 1 Axes>"
      ]
     },
     "metadata": {
      "needs_background": "light"
     },
     "output_type": "display_data"
    }
   ],
   "source": [
    "get_roc_curve_auc(xgb_model,eval_features,eval_labels)"
   ]
  },
  {
   "cell_type": "code",
   "execution_count": 294,
   "metadata": {},
   "outputs": [
    {
     "name": "stdout",
     "output_type": "stream",
     "text": [
      "accuracy for target=1 :  0.6037151702786377\n",
      "accuracy  : 0.75664\n",
      "FP : 0.21264\n",
      "FN : 0.03072\n"
     ]
    }
   ],
   "source": [
    "get_accuracy_for_target1_for_thresold(xgb_model,eval_features,eval_labels,0.1)"
   ]
  },
  {
   "cell_type": "code",
   "execution_count": 295,
   "metadata": {},
   "outputs": [
    {
     "data": {
      "text/html": [
       "<div>\n",
       "<style scoped>\n",
       "    .dataframe tbody tr th:only-of-type {\n",
       "        vertical-align: middle;\n",
       "    }\n",
       "\n",
       "    .dataframe tbody tr th {\n",
       "        vertical-align: top;\n",
       "    }\n",
       "\n",
       "    .dataframe thead th {\n",
       "        text-align: right;\n",
       "    }\n",
       "</style>\n",
       "<table border=\"1\" class=\"dataframe\">\n",
       "  <thead>\n",
       "    <tr style=\"text-align: right;\">\n",
       "      <th></th>\n",
       "      <th>features</th>\n",
       "      <th>importance</th>\n",
       "    </tr>\n",
       "  </thead>\n",
       "  <tbody>\n",
       "    <tr>\n",
       "      <th>39</th>\n",
       "      <td>EXT_SOURCE_3</td>\n",
       "      <td>0.024586</td>\n",
       "    </tr>\n",
       "    <tr>\n",
       "      <th>36</th>\n",
       "      <td>EXT_SOURCE_2</td>\n",
       "      <td>0.016910</td>\n",
       "    </tr>\n",
       "    <tr>\n",
       "      <th>221</th>\n",
       "      <td>ORGANIZATION_TYPE_Transport: type 1</td>\n",
       "      <td>0.011316</td>\n",
       "    </tr>\n",
       "    <tr>\n",
       "      <th>193</th>\n",
       "      <td>NAME_HOUSING_TYPE_House / apartment</td>\n",
       "      <td>0.010489</td>\n",
       "    </tr>\n",
       "    <tr>\n",
       "      <th>205</th>\n",
       "      <td>WALLSMATERIAL_MODE_Monolithic</td>\n",
       "      <td>0.009039</td>\n",
       "    </tr>\n",
       "    <tr>\n",
       "      <th>80</th>\n",
       "      <td>FLAG_DOCUMENT_3</td>\n",
       "      <td>0.008515</td>\n",
       "    </tr>\n",
       "    <tr>\n",
       "      <th>96</th>\n",
       "      <td>CODE_GENDER_F</td>\n",
       "      <td>0.008435</td>\n",
       "    </tr>\n",
       "    <tr>\n",
       "      <th>30</th>\n",
       "      <td>FLAG_OWN_CAR_N</td>\n",
       "      <td>0.008430</td>\n",
       "    </tr>\n",
       "    <tr>\n",
       "      <th>23</th>\n",
       "      <td>NAME_INCOME_TYPE_Working</td>\n",
       "      <td>0.008294</td>\n",
       "    </tr>\n",
       "    <tr>\n",
       "      <th>46</th>\n",
       "      <td>CODE_GENDER_M</td>\n",
       "      <td>0.008160</td>\n",
       "    </tr>\n",
       "  </tbody>\n",
       "</table>\n",
       "</div>"
      ],
      "text/plain": [
       "                                features  importance\n",
       "39                          EXT_SOURCE_3    0.024586\n",
       "36                          EXT_SOURCE_2    0.016910\n",
       "221  ORGANIZATION_TYPE_Transport: type 1    0.011316\n",
       "193  NAME_HOUSING_TYPE_House / apartment    0.010489\n",
       "205        WALLSMATERIAL_MODE_Monolithic    0.009039\n",
       "80                       FLAG_DOCUMENT_3    0.008515\n",
       "96                         CODE_GENDER_F    0.008435\n",
       "30                        FLAG_OWN_CAR_N    0.008430\n",
       "23              NAME_INCOME_TYPE_Working    0.008294\n",
       "46                         CODE_GENDER_M    0.008160"
      ]
     },
     "execution_count": 295,
     "metadata": {},
     "output_type": "execute_result"
    }
   ],
   "source": [
    "df_top_feature_importance=pd.DataFrame(zip(reduce_train.columns,xgb_model.feature_importances_),\\\n",
    "                                       columns=['features','importance'])\n",
    "df_top_feature_importance.sort_values(by='importance',ascending=False).head(10)"
   ]
  },
  {
   "cell_type": "markdown",
   "metadata": {},
   "source": [
    "#### As we have noticed that best xgb_model at max depth 6, let's try max depth 8 "
   ]
  },
  {
   "cell_type": "code",
   "execution_count": 70,
   "metadata": {},
   "outputs": [
    {
     "name": "stdout",
     "output_type": "stream",
     "text": [
      "CPU times: user 24min 46s, sys: 4.5 s, total: 24min 51s\n",
      "Wall time: 24min 58s\n"
     ]
    },
    {
     "data": {
      "text/plain": [
       "XGBClassifier(base_score=0.5, booster='gbtree', colsample_bylevel=1,\n",
       "              colsample_bynode=1, colsample_bytree=0.8, gamma=1.5,\n",
       "              learning_rate=0.02, max_delta_step=0, max_depth=8,\n",
       "              min_child_weight=1, missing=None, n_estimators=600, n_jobs=1,\n",
       "              nthread=1, objective='binary:logistic', random_state=0,\n",
       "              reg_alpha=0, reg_lambda=1, scale_pos_weight=1, seed=None,\n",
       "              silent=True, subsample=0.6, verbosity=1)"
      ]
     },
     "execution_count": 70,
     "metadata": {},
     "output_type": "execute_result"
    }
   ],
   "source": [
    "%%time\n",
    "xgb_model_dpth8 = XGBClassifier(base_score=0.5, booster='gbtree', colsample_bylevel=1,\n",
    "                  colsample_bynode=1, colsample_bytree=0.8, gamma=1.5,\n",
    "                  learning_rate=0.02, max_delta_step=0, max_depth=8,\n",
    "                  min_child_weight=1, missing=None, n_estimators=600, n_jobs=1,\n",
    "                  nthread=1, objective='binary:logistic', random_state=0,\n",
    "                  reg_alpha=0, reg_lambda=1, scale_pos_weight=1, seed=None,\n",
    "                  silent=True, subsample=0.6, verbosity=1)\n",
    "xgb_model_dpth8.fit(train_features, train_labels)"
   ]
  },
  {
   "cell_type": "code",
   "execution_count": 77,
   "metadata": {},
   "outputs": [
    {
     "data": {
      "image/png": "[encoded data removed]",
      "text/plain": [
       "<Figure size 432x288 with 1 Axes>"
      ]
     },
     "metadata": {
      "needs_background": "light"
     },
     "output_type": "display_data"
    }
   ],
   "source": [
    "get_roc_curve_auc(xgb_model_dpth8,eval_features,eval_labels)"
   ]
  },
  {
   "cell_type": "code",
   "execution_count": 79,
   "metadata": {},
   "outputs": [
    {
     "name": "stdout",
     "output_type": "stream",
     "text": [
      "accuracy for target=1 :  0.5675954592363261\n",
      "accuracy  : 0.76952\n",
      "FP : 0.19696\n",
      "FN : 0.03352\n",
      "None\n",
      "accuracy for target=1 :  0.41382868937048506\n",
      "accuracy  : 0.85416\n",
      "FP : 0.1004\n",
      "FN : 0.04544\n",
      "None\n",
      "accuracy for target=1 :  0.29411764705882354\n",
      "accuracy  : 0.88968\n",
      "FP : 0.0556\n",
      "FN : 0.05472\n",
      "None\n"
     ]
    }
   ],
   "source": [
    "print(get_accuracy_for_target1_for_thresold(xgb_model_dpth8,eval_features,eval_labels,0.1))\n",
    "print(get_accuracy_for_target1_for_thresold(xgb_model_dpth8,eval_features,eval_labels,0.15))\n",
    "print(get_accuracy_for_target1_for_thresold(xgb_model_dpth8,eval_features,eval_labels,0.2))"
   ]
  },
  {
   "cell_type": "markdown",
   "metadata": {},
   "source": [
    "#### Conclusion from MICE with XGB"
   ]
  },
  {
   "cell_type": "markdown",
   "metadata": {},
   "source": [
    "<br> After MICE and increasing depth for XGB, we don't see any significant development in model performance<br>\n",
    "We can get 60% accuracy for TARGET 1 but in the cost of 20% FP.If we want to decrease FP we have to comprise <br>\n",
    "in capturing TARGET 1\n",
    "    "
   ]
  },
  {
   "cell_type": "markdown",
   "metadata": {},
   "source": [
    "#### Let's try different approach - LightGBM"
   ]
  },
  {
   "cell_type": "markdown",
   "metadata": {},
   "source": [
    "<br> For limited time we will not do extensive grid search <br>"
   ]
  },
  {
   "cell_type": "code",
   "execution_count": 229,
   "metadata": {},
   "outputs": [
    {
     "name": "stdout",
     "output_type": "stream",
     "text": [
      "Training until validation scores don't improve for 100 rounds\n",
      "Early stopping, best iteration is:\n",
      "[41]\ttraining's auc: 0.889748\ttraining's binary_logloss: 0.201621\tvalid_1's auc: 0.744511\tvalid_1's binary_logloss: 0.250981\n"
     ]
    },
    {
     "data": {
      "image/png": "[encoded data removed]",
      "text/plain": [
       "<Figure size 432x288 with 1 Axes>"
      ]
     },
     "metadata": {
      "needs_background": "light"
     },
     "output_type": "display_data"
    }
   ],
   "source": [
    "X_train, X_valid, Y_train, Y_valid = train_test_split\\\n",
    "                                (train_features, train_labels, random_state=7, test_size=0.2)\n",
    "# model\n",
    "lgb_model = LGBMClassifier(\n",
    "        n_estimators=2000,\n",
    "        learning_rate=0.1,\n",
    "        num_leaves=100,\n",
    "        colsample_bytree=.8,\n",
    "        subsample=.9,\n",
    "        max_depth=15,\n",
    "        reg_alpha=.1,\n",
    "        reg_lambda=.1,\n",
    "        min_split_gain=.01,\n",
    "        min_child_weight=2\n",
    "    )\n",
    "    \n",
    "lgb_model.fit(X_train,Y_train,\n",
    "            eval_set= [(X_train,Y_train),(X_valid,Y_valid)], \n",
    "            eval_metric='auc', verbose=200, early_stopping_rounds=100\n",
    "           )\n",
    "get_roc_curve_auc(lgb_model,eval_features,eval_labels)\n"
   ]
  },
  {
   "cell_type": "code",
   "execution_count": 267,
   "metadata": {},
   "outputs": [
    {
     "name": "stdout",
     "output_type": "stream",
     "text": [
      "accuracy for target=1 :  0.56656346749226\n",
      "accuracy  : 0.75664\n",
      "FP : 0.20976\n",
      "FN : 0.0336\n",
      "None\n"
     ]
    }
   ],
   "source": [
    "print(get_accuracy_for_target1_for_thresold(lgb_model,eval_features,eval_labels,0.1))"
   ]
  },
  {
   "cell_type": "markdown",
   "metadata": {},
   "source": [
    "#### Almost same story as XGB. Not much development"
   ]
  },
  {
   "cell_type": "markdown",
   "metadata": {},
   "source": [
    "<br> As we are not getting much development after XGB model with max_depth=5,<br>\n",
    "Final submission will be on this model"
   ]
  },
  {
   "cell_type": "markdown",
   "metadata": {},
   "source": [
    "#### Implement on Test and Final Submission"
   ]
  },
  {
   "cell_type": "code",
   "execution_count": 296,
   "metadata": {},
   "outputs": [],
   "source": [
    "sample_submission=pd.read_csv(file_path+\"/sample_submission.csv\")"
   ]
  },
  {
   "cell_type": "code",
   "execution_count": 300,
   "metadata": {},
   "outputs": [],
   "source": [
    "sample_submission=sample_submission.drop(['TARGET'],axis=1)"
   ]
  },
  {
   "cell_type": "code",
   "execution_count": 305,
   "metadata": {},
   "outputs": [
    {
     "data": {
      "text/plain": [
       "Index(['SK_ID_CURR'], dtype='object')"
      ]
     },
     "execution_count": 305,
     "metadata": {},
     "output_type": "execute_result"
    }
   ],
   "source": [
    "sample_submission.columns"
   ]
  },
  {
   "cell_type": "code",
   "execution_count": 302,
   "metadata": {},
   "outputs": [],
   "source": [
    "test_indices=reduce_test.index.values\n",
    "test_features = np.array(reduce_test)"
   ]
  },
  {
   "cell_type": "code",
   "execution_count": 308,
   "metadata": {},
   "outputs": [
    {
     "data": {
      "text/plain": [
       "<bound method XGBClassifier.predict_proba of XGBClassifier(base_score=0.5, booster='gbtree', colsample_bylevel=1,\n",
       "              colsample_bynode=1, colsample_bytree=0.8, gamma=1.5,\n",
       "              learning_rate=0.02, max_delta_step=0, max_depth=5,\n",
       "              min_child_weight=1, missing=None, n_estimators=600, n_jobs=1,\n",
       "              nthread=1, objective='binary:logistic', random_state=0,\n",
       "              reg_alpha=0, reg_lambda=1, scale_pos_weight=1, seed=None,\n",
       "              silent=True, subsample=0.6, verbosity=1)>"
      ]
     },
     "execution_count": 308,
     "metadata": {},
     "output_type": "execute_result"
    }
   ],
   "source": [
    "xgb_model.predict_proba"
   ]
  },
  {
   "cell_type": "code",
   "execution_count": 310,
   "metadata": {},
   "outputs": [],
   "source": [
    "df_result=pd.DataFrame(list(zip(test_indices,xgb_model.predict_proba(test_features)[:,0],\\\n",
    "                    xgb_model.predict_proba(test_features)[:,1])),\\\n",
    "                    columns=['SK_ID_CURR','prob_0','prob_1'])\n",
    "df_result['TARGET']=np.where(df_result['prob_1']>.1,1,0)"
   ]
  },
  {
   "cell_type": "code",
   "execution_count": 314,
   "metadata": {},
   "outputs": [
    {
     "data": {
      "text/plain": [
       "0.3069916297390448"
      ]
     },
     "execution_count": 314,
     "metadata": {},
     "output_type": "execute_result"
    }
   ],
   "source": [
    "df_result[df_result['TARGET']==1].shape[0]/df_result.shape[0]"
   ]
  },
  {
   "cell_type": "code",
   "execution_count": 315,
   "metadata": {},
   "outputs": [],
   "source": [
    "df_result=df_result.drop(['prob_0','prob_1'],axis=1)"
   ]
  },
  {
   "cell_type": "code",
   "execution_count": 316,
   "metadata": {},
   "outputs": [],
   "source": [
    "sample_submission=pd.merge(sample_submission,df_result,on='SK_ID_CURR')\n",
    "sample_submission.to_csv('sample_submission.csv', index=False)"
   ]
  },
  {
   "cell_type": "markdown",
   "metadata": {},
   "source": [
    "### Conclusion and Future work "
   ]
  },
  {
   "cell_type": "markdown",
   "metadata": {},
   "source": [
    "<br> In this project, dataset was not very balanced only 8% in one class and rest other class <br>\n",
    "Missing value percentage was also high <br> That suggests,if we make all prediction to zero still model \n",
    "accuracy will be 92% if the distribution in test is same as training set.<br> For some practical cases,\n",
    "for example,fraud capturing TARGET 1 is important, This is why I created another measure for accuracy\n",
    "when TARGET at 1<br>In this work, modeling was started with minimal EDA <br>\n",
    "Primirily missing values were replaced by simple techniques. Base model came with .63 AUC score.<br>\n",
    "AUC is improved to .75 after finding cv,hyperparameter tuning<br> From feature importance point of view\n",
    "one variable EXT_SOURCE_3 is the highest 2% important all other parametrs contributing rest.\n",
    "<br> For improvement of this model, in depth EDA is required to get better understanding of the data<br>\n",
    "Missing value imputation technique, MICE did not work very well<br> Dimension Reduction technique \n",
    "like PCA can be used in next phase <br> Better feature engineering required<br> More hyperparameter tuning and other modeling techniques need to explore\n",
    "<br> Also stalking(ensembling or combining by some percentage) different models, can be useful "
   ]
  },
  {
   "cell_type": "code",
   "execution_count": null,
   "metadata": {},
   "outputs": [],
   "source": []
  }
 ],
 "metadata": {
  "kernelspec": {
   "display_name": "Python [conda env:kaggle_bowl] *",
   "language": "python",
   "name": "conda-env-kaggle_bowl-py"
  },
  "language_info": {
   "codemirror_mode": {
    "name": "ipython",
    "version": 3
   },
   "file_extension": ".py",
   "mimetype": "text/x-python",
   "name": "python",
   "nbconvert_exporter": "python",
   "pygments_lexer": "ipython3",
   "version": "3.7.3"
  }
 },
 "nbformat": 4,
 "nbformat_minor": 2
}
